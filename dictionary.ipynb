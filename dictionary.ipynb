{
 "cells": [
  {
   "cell_type": "code",
   "execution_count": 2,
   "id": "6db8ba09",
   "metadata": {},
   "outputs": [
    {
     "name": "stdout",
     "output_type": "stream",
     "text": [
      "{'name': 'Deepika Singh', 'age': 20, 'course': 'BCA', 'year': 2, 'marks': [85, 90, 78]}\n"
     ]
    }
   ],
   "source": [
    "student = {\n",
    "    \"name\": \"Deepika Singh\",\n",
    "    \"age\": 20,\n",
    "    \"course\": \"BCA\",\n",
    "    \"year\": 2,\n",
    "    \"marks\": [85, 90, 78],\n",
    "    }\n",
    "print(student)"
   ]
  },
  {
   "cell_type": "markdown",
   "id": "369f1cd6",
   "metadata": {},
   "source": [
    "- how to declare dictionary\n",
    "- how to access key value pair\n",
    "- loops in  dictionary\n",
    "- nested dictionary"
   ]
  },
  {
   "cell_type": "markdown",
   "id": "e4bb070e",
   "metadata": {},
   "source": [
    "## declare a list in dictionary"
   ]
  },
  {
   "cell_type": "code",
   "execution_count": 4,
   "id": "a57cc56a",
   "metadata": {},
   "outputs": [
    {
     "name": "stdout",
     "output_type": "stream",
     "text": [
      "{'lucknow': [34, 35, 36], 'delhi': [32, 33, 34], 'mumbai': [30, 31, 32]}\n"
     ]
    }
   ],
   "source": [
    "temp = {\n",
    "    'lucknow':[34,35,36],\n",
    "    'delhi':[32,33,34],\n",
    "    'mumbai':[30,31,32],\n",
    "}\n",
    "print(temp)"
   ]
  },
  {
   "cell_type": "markdown",
   "id": "388ee79c",
   "metadata": {},
   "source": [
    "## dict method for converting dictionary"
   ]
  },
  {
   "cell_type": "code",
   "execution_count": 5,
   "id": "5659d5e5",
   "metadata": {},
   "outputs": [
    {
     "name": "stdout",
     "output_type": "stream",
     "text": [
      "{'name': 'alice', 'age': 25, 'city': 'new york'}\n"
     ]
    }
   ],
   "source": [
    "info = dict(name=\"alice\", age=25, city=\"new york\")\n",
    "print(info)"
   ]
  },
  {
   "cell_type": "code",
   "execution_count": 7,
   "id": "73a594e9",
   "metadata": {},
   "outputs": [
    {
     "name": "stdout",
     "output_type": "stream",
     "text": [
      "{'name': 'alice', 'age': 23, 'city': 'new york'}\n"
     ]
    }
   ],
   "source": [
    "info = dict(name=\"alice\", age=int(input(\"enter a no\")), city=\"new york\")\n",
    "print(info)"
   ]
  },
  {
   "cell_type": "code",
   "execution_count": 8,
   "id": "56699e40",
   "metadata": {},
   "outputs": [
    {
     "name": "stdout",
     "output_type": "stream",
     "text": [
      "Deepika Singh\n",
      "20\n"
     ]
    }
   ],
   "source": [
    "print(student[\"name\"])\n",
    "print(student[\"age\"])"
   ]
  },
  {
   "cell_type": "code",
   "execution_count": 9,
   "id": "a16a7841",
   "metadata": {},
   "outputs": [
    {
     "name": "stdout",
     "output_type": "stream",
     "text": [
      "{'name': 'Deepika Singh', 'age': 20, 'course': 'BCA', 'year': 2, 'marks': [85, 90, 78], 'city': 'lucknow'}\n"
     ]
    }
   ],
   "source": [
    "student['city'] = \"lucknow\"\n",
    "print(student)"
   ]
  },
  {
   "cell_type": "markdown",
   "id": "4732a9e4",
   "metadata": {},
   "source": [
    "## loops in dictionary"
   ]
  },
  {
   "cell_type": "code",
   "execution_count": 22,
   "id": "5b606fe2",
   "metadata": {},
   "outputs": [
    {
     "name": "stdout",
     "output_type": "stream",
     "text": [
      "name: john doe\n",
      "age: 30\n",
      "city: new york\n"
     ]
    }
   ],
   "source": [
    "student = {\n",
    "    \"name\": \"john doe\",\n",
    "    \"age\": 30,  \n",
    "    \"city\": \"new york\",\n",
    "}\n",
    "# Accessing keys and values in a dictionary\n",
    "for k,v in student. items():\n",
    "    print(f\"{k}: {v}\")      # ACCSSING KEYS AND VALUES\n"
   ]
  },
  {
   "cell_type": "markdown",
   "id": "14fed0d2",
   "metadata": {},
   "source": [
    "## NESTED dictionary"
   ]
  },
  {
   "cell_type": "code",
   "execution_count": 17,
   "id": "a2299bf5",
   "metadata": {},
   "outputs": [
    {
     "name": "stdout",
     "output_type": "stream",
     "text": [
      "{'employee1': {'name': 'Alice', 'age': 30, 'department': 'HR'}, 'employee2': {'name': 'Bob', 'age': 25, 'department': 'IT'}, 'employee3': {'name': 'Charlie', 'age': 28, 'department': 'Finance'}}\n",
      "{'employee1': {'age': 30, 'department': 'HR', 'name': 'Alice'},\n",
      " 'employee2': {'age': 25, 'department': 'IT', 'name': 'Bob'},\n",
      " 'employee3': {'age': 28, 'department': 'Finance', 'name': 'Charlie'}}\n"
     ]
    }
   ],
   "source": [
    "company = {    \n",
    "    'employee1': {'name': 'Alice', 'age': 30, 'department': 'HR'},\n",
    "    'employee2': {'name': 'Bob', 'age': 25, 'department': 'IT'},\n",
    "    'employee3': {'name': 'Charlie', 'age': 28, 'department': 'Finance'}}\n",
    "print(company)\n",
    "from pprint import pprint  # Pretty print for better readability\n",
    "# Display the company dictionary in a more readable format      \n",
    "pprint(company)"
   ]
  },
  {
   "cell_type": "code",
   "execution_count": 19,
   "id": "469570b0",
   "metadata": {},
   "outputs": [
    {
     "name": "stdout",
     "output_type": "stream",
     "text": [
      "Alice\n",
      "25\n"
     ]
    }
   ],
   "source": [
    "print(company['employee1']['name'])   # Accessing nested dictionary\n",
    "print(company['employee2']['age'])     # Accessing nested dictionary"
   ]
  },
  {
   "cell_type": "markdown",
   "id": "1a47f525",
   "metadata": {},
   "source": [
    "### calculate the average temprature of delhi in temp dictionary"
   ]
  },
  {
   "cell_type": "code",
   "execution_count": 20,
   "id": "85059642",
   "metadata": {},
   "outputs": [
    {
     "name": "stdout",
     "output_type": "stream",
     "text": [
      "The average temperature in delhi is: 33.0°C\n"
     ]
    }
   ],
   "source": [
    "sum = 0\n",
    "for i in temp['delhi']:     # Accessing the list of temperatures for 'delhi'\n",
    "    sum += i                        \n",
    "average_temp = sum / len(temp['delhi'])  # Calculate the average temperature\n",
    "print(f\"The average temperature in delhi is: {average_temp}°C\") \n",
    "    "
   ]
  },
  {
   "cell_type": "code",
   "execution_count": 25,
   "id": "46298141",
   "metadata": {},
   "outputs": [
    {
     "ename": "TypeError",
     "evalue": "'int' object is not callable",
     "output_type": "error",
     "traceback": [
      "\u001b[31m---------------------------------------------------------------------------\u001b[39m",
      "\u001b[31mTypeError\u001b[39m                                 Traceback (most recent call last)",
      "\u001b[36mCell\u001b[39m\u001b[36m \u001b[39m\u001b[32mIn[25]\u001b[39m\u001b[32m, line 1\u001b[39m\n\u001b[32m----> \u001b[39m\u001b[32m1\u001b[39m \u001b[38;5;28;43msum\u001b[39;49m\u001b[43m(\u001b[49m\u001b[43mtemp\u001b[49m\u001b[43m[\u001b[49m\u001b[33;43m'\u001b[39;49m\u001b[33;43mdelhi\u001b[39;49m\u001b[33;43m'\u001b[39;49m\u001b[43m]\u001b[49m\u001b[43m)\u001b[49m / \u001b[38;5;28mlen\u001b[39m(temp[\u001b[33m'\u001b[39m\u001b[33mdelhi\u001b[39m\u001b[33m'\u001b[39m])  \u001b[38;5;66;03m# Calculate the average temperature\u001b[39;00m\n",
      "\u001b[31mTypeError\u001b[39m: 'int' object is not callable"
     ]
    }
   ],
   "source": [
    "sum(temp['delhi']) / len(temp['delhi'])  # Calculate the average temperature"
   ]
  },
  {
   "cell_type": "markdown",
   "id": "88688cf7",
   "metadata": {},
   "source": [
    "### calculate average age of all emplyee"
   ]
  },
  {
   "cell_type": "code",
   "execution_count": 21,
   "id": "f700b254",
   "metadata": {},
   "outputs": [
    {
     "name": "stdout",
     "output_type": "stream",
     "text": [
      "The average age of all employees is: 27.666666666666668 years\n"
     ]
    }
   ],
   "source": [
    "sum = (company['employee1']['age'] )   + (company['employee2']['age']) + (company['employee3']['age'])\n",
    "average_age = sum / 3   \n",
    "print(f\"The average age of all employees is: {average_age} years\")  "
   ]
  }
 ],
 "metadata": {
  "kernelspec": {
   "display_name": "base",
   "language": "python",
   "name": "python3"
  },
  "language_info": {
   "codemirror_mode": {
    "name": "ipython",
    "version": 3
   },
   "file_extension": ".py",
   "mimetype": "text/x-python",
   "name": "python",
   "nbconvert_exporter": "python",
   "pygments_lexer": "ipython3",
   "version": "3.13.2"
  }
 },
 "nbformat": 4,
 "nbformat_minor": 5
}
