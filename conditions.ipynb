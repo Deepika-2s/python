{
 "cells": [
  {
   "cell_type": "markdown",
   "id": "0920d99f",
   "metadata": {},
   "source": [
    "### for multiple conditions"
   ]
  },
  {
   "cell_type": "markdown",
   "id": "e55ccf8a",
   "metadata": {},
   "source": [
    "# if"
   ]
  },
  {
   "cell_type": "code",
   "execution_count": 2,
   "id": "5b2300db",
   "metadata": {},
   "outputs": [
    {
     "name": "stdout",
     "output_type": "stream",
     "text": [
      "b\n"
     ]
    }
   ],
   "source": [
    "marks=84\n",
    "if marks >=98:\n",
    "   print(\"a+\")\n",
    "if marks >=87:\n",
    "    print(\"a\")\n",
    "if marks >=68:\n",
    "    print(\"b\")\n",
    "if marks <=68:\n",
    "    print(\"fail\")"
   ]
  },
  {
   "cell_type": "markdown",
   "id": "04660b41",
   "metadata": {},
   "source": [
    "# elif"
   ]
  },
  {
   "cell_type": "code",
   "execution_count": 4,
   "id": "a2c7fb1e",
   "metadata": {},
   "outputs": [
    {
     "name": "stdout",
     "output_type": "stream",
     "text": [
      "b\n"
     ]
    }
   ],
   "source": [
    "marks=84\n",
    "if marks >=98:\n",
    "   print(\"a+\")\n",
    "elif marks >=87:\n",
    "    print(\"a\")\n",
    "elif  marks >=68:\n",
    "    print(\"b\")\n",
    "elif  marks <=68:\n",
    "    print(\"fail\")\n",
    "else:\n",
    "    print(\"Invalid marks\")"
   ]
  },
  {
   "cell_type": "markdown",
   "id": "b64a7061",
   "metadata": {},
   "source": [
    "# check if the given number is even or odd"
   ]
  },
  {
   "cell_type": "code",
   "execution_count": 1,
   "id": "49c9abce",
   "metadata": {},
   "outputs": [
    {
     "name": "stdout",
     "output_type": "stream",
     "text": [
      "odd\n"
     ]
    }
   ],
   "source": [
    "num=input(\"enter a number\")\n",
    "if num.isdigit():\n",
    "    num=int(num)\n",
    "    if num % 2==0:\n",
    "        print(\"even\")\n",
    "    else:\n",
    "        print(\"odd\")"
   ]
  },
  {
   "cell_type": "markdown",
   "id": "34cfeb81",
   "metadata": {},
   "source": [
    "# check the given number is prime or not "
   ]
  },
  {
   "cell_type": "code",
   "execution_count": 2,
   "id": "6610916a",
   "metadata": {},
   "outputs": [
    {
     "name": "stdout",
     "output_type": "stream",
     "text": [
      "24 is composite number\n"
     ]
    }
   ],
   "source": [
    "num =int(input(\"enter a number\"))\n",
    "if num > 1:\n",
    "    for i in range(2, num):\n",
    "        if( num% 1)==0:\n",
    "            print(num, \"is composite number\")\n",
    "            break\n",
    "    else:\n",
    "        print(num,\"is a prime number\")\n",
    "        "
   ]
  },
  {
   "cell_type": "markdown",
   "id": "b3005203",
   "metadata": {},
   "source": [
    "## check the given character is vowel or constant"
   ]
  },
  {
   "cell_type": "code",
   "execution_count": 3,
   "id": "4cea94d4",
   "metadata": {},
   "outputs": [
    {
     "name": "stdout",
     "output_type": "stream",
     "text": [
      "the given character is a constant\n"
     ]
    }
   ],
   "source": [
    "a=input(\"enter a character:\").lower()\n",
    "if a in \"aeiou\":\n",
    "    print(\"the given character is vowel\")\n",
    "else:\n",
    "    print(\"the given character is a constant\")"
   ]
  },
  {
   "cell_type": "markdown",
   "id": "9ce62545",
   "metadata": {},
   "source": [
    "# salary report"
   ]
  },
  {
   "cell_type": "code",
   "execution_count": 5,
   "id": "ce344450",
   "metadata": {},
   "outputs": [
    {
     "name": "stdout",
     "output_type": "stream",
     "text": [
      "the total dearness allowanceis 500.0\n",
      "the total house rent allowance is 1000.0\n",
      "the grosss salary is 6500.0\n"
     ]
    }
   ],
   "source": [
    "a=5000\n",
    "tda=a*10/100\n",
    "print(\"the total dearness allowanceis\",tda)\n",
    "hra=a*20/100\n",
    "print(\"the total house rent allowance is\",hra)\n",
    "gross=a+tda+hra\n",
    "print(\"the grosss salary is\",gross)"
   ]
  },
  {
   "cell_type": "markdown",
   "id": "c06526c4",
   "metadata": {},
   "source": [
    "## cheak the user is eligible for voting or not"
   ]
  },
  {
   "cell_type": "code",
   "execution_count": 6,
   "id": "9891bbbc",
   "metadata": {},
   "outputs": [
    {
     "name": "stdout",
     "output_type": "stream",
     "text": [
      "you are eligible to vote\n"
     ]
    }
   ],
   "source": [
    "age=int(input(\"enter a number\"))\n",
    "if age >= 18:\n",
    "    print(\"you are eligible to vote\")\n",
    "else:\n",
    "    print(\"you are not eligible to vote\")"
   ]
  },
  {
   "cell_type": "markdown",
   "id": "e2a60190",
   "metadata": {},
   "source": [
    "## check the two sides of a triangle are equal or not"
   ]
  },
  {
   "cell_type": "code",
   "execution_count": 1,
   "id": "3c0f2502",
   "metadata": {},
   "outputs": [
    {
     "name": "stdout",
     "output_type": "stream",
     "text": [
      "the two sides of the triangle are equal.\n"
     ]
    }
   ],
   "source": [
    "t1 = int(input(\"enter the first side of the triangle:\"))\n",
    "t2 = int(input(\"enter the second side of the triangle:\"))\n",
    "if t1 == t2:\n",
    "    print(\"the two sides of the triangle are equal.\")\n",
    "else:\n",
    "    print(\"the two sides of the triangle are not equal\")"
   ]
  },
  {
   "cell_type": "markdown",
   "id": "1fa1827e",
   "metadata": {},
   "source": [
    "### checkwhether a triangle is an equilateral triangle or isosceles triangle"
   ]
  },
  {
   "cell_type": "code",
   "execution_count": 4,
   "id": "9b97523d",
   "metadata": {},
   "outputs": [
    {
     "name": "stdout",
     "output_type": "stream",
     "text": [
      "the triangle is an isosceles triangle.\n"
     ]
    }
   ],
   "source": [
    "t1 = int(input(\"enter the first side of the triangle:\"))\n",
    "t2 = int(input(\"enter the second side of the triangle:\"))\n",
    "t3 = int(input(\"enter the third side of the triangle:\"))\n",
    "if t1 == t2 and t2 == t3:\n",
    "    print(\"the triangle is an equilateral triangle.\")\n",
    "elif t1 == t2 or t2 == t3 or t1 == t3:\n",
    "    print(\"the triangle is an isosceles triangle.\")\n",
    "else:\n",
    "    print(\"the triangle is not an equilateral or isosceles triangle.\")"
   ]
  },
  {
   "cell_type": "markdown",
   "id": "8b82e73e",
   "metadata": {},
   "source": [
    "### check the details are valid or not in a registration form"
   ]
  },
  {
   "cell_type": "code",
   "execution_count": 6,
   "id": "3144ef69",
   "metadata": {},
   "outputs": [
    {
     "name": "stdout",
     "output_type": "stream",
     "text": [
      "email must contain '@' and '.'🥲\n"
     ]
    }
   ],
   "source": [
    "username = input(\"enter your username:\")\n",
    "email = input(\"enter your email:\")\n",
    "phone = input(\"enter your phone number:\")\n",
    "password = input(\"enter your password:\")\n",
    "cpass = input(\"confirm your password\")\n",
    "if len(username) < 5 or len(username) >=15:\n",
    "    print(\"username must be between 5 and 15 character long.\")\n",
    "else:\n",
    "    if '@' in email and '.' in email:\n",
    "        if len(phone) == 10 and phone.isdigit():\n",
    "            if len(password) >= 8 and password.isalnum:\n",
    "               if password == cpass:\n",
    "                  print(\"resistration successfull😊\")\n",
    "               else:\n",
    "                 print(\"password do not match.🥲\")\n",
    "            else:\n",
    "                print(\"password must be at least 8 characters long and alphanumerric.🥲\")\n",
    "        else:\n",
    "             print(\"phone number must be 10 digits long.🥲\")\n",
    "    else:\n",
    "       print(\"email must contain '@' and '.'🥲\")  "
   ]
  }
 ],
 "metadata": {
  "kernelspec": {
   "display_name": "base",
   "language": "python",
   "name": "python3"
  },
  "language_info": {
   "codemirror_mode": {
    "name": "ipython",
    "version": 3
   },
   "file_extension": ".py",
   "mimetype": "text/x-python",
   "name": "python",
   "nbconvert_exporter": "python",
   "pygments_lexer": "ipython3",
   "version": "3.13.2"
  }
 },
 "nbformat": 4,
 "nbformat_minor": 5
}
