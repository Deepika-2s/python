{
 "cells": [
  {
   "cell_type": "markdown",
   "id": "eb30fc88",
   "metadata": {},
   "source": [
    "- sets is the collection of unique items.\n",
    "and not repeatable, unordered\n",
    "- (position not fixed)\n",
    "- to display  used curly braces{}"
   ]
  },
  {
   "cell_type": "code",
   "execution_count": 2,
   "id": "c375ae21",
   "metadata": {},
   "outputs": [
    {
     "name": "stdout",
     "output_type": "stream",
     "text": [
      "{'cherry', 'apple', 'banana'}\n"
     ]
    }
   ],
   "source": [
    "fruits = {\"apple\", \"banana\", \"cherry\"}\n",
    "print(fruits)  # Output: {'banana', 'cherry', 'apple'}"
   ]
  },
  {
   "cell_type": "code",
   "execution_count": 3,
   "id": "67ba3c0b",
   "metadata": {},
   "outputs": [
    {
     "name": "stdout",
     "output_type": "stream",
     "text": [
      "{1, 2, 3, 4, 5, 6}\n"
     ]
    }
   ],
   "source": [
    "num = {1, 2, 3, 4, 4, 5,5, 6}\n",
    "print(num)  # donot allow duplicate values, so it will print {1, 2, 3, 4, 5, 6}"
   ]
  },
  {
   "cell_type": "code",
   "execution_count": 4,
   "id": "f6bd042d",
   "metadata": {},
   "outputs": [],
   "source": [
    "#method 1\n",
    "s1 = {10,20,30}\n",
    "\n",
    "#method 2\n",
    "s2 = set([10,20,30])\n",
    "\n"
   ]
  },
  {
   "cell_type": "code",
   "execution_count": 6,
   "id": "a587985a",
   "metadata": {},
   "outputs": [
    {
     "name": "stdout",
     "output_type": "stream",
     "text": [
      "{40, 10, 20, 30}\n"
     ]
    }
   ],
   "source": [
    "#add the item to the sets1.add()\n",
    "s = {10, 20, 30}\n",
    "s.add(40)\n",
    "print(s)  # Output: {40, 10, 20, 30}\n"
   ]
  },
  {
   "cell_type": "code",
   "execution_count": null,
   "id": "7c6e7cb0",
   "metadata": {},
   "outputs": [
    {
     "name": "stdout",
     "output_type": "stream",
     "text": [
      "{40, 10, 50, 20, 60, 30}\n"
     ]
    }
   ],
   "source": [
    "#add the multiple items to the set using .update() method\n",
    "s = {10, 20, 30}\n",
    "s.update([40, 50, 60])\n",
    "print(s)  # Output: {40, 10, 50, 20, 60, 30}"
   ]
  },
  {
   "cell_type": "code",
   "execution_count": 11,
   "id": "914c9886",
   "metadata": {},
   "outputs": [
    {
     "name": "stdout",
     "output_type": "stream",
     "text": [
      "{10, 30}\n",
      "{10, 20, 30}\n"
     ]
    }
   ],
   "source": [
    "#remove the item from the set using .remove() method or .discard() method\n",
    "# .remove() will raise an error if the item is not found, while .discard()\n",
    "s = {10, 20, 30}\n",
    "s.remove(20)\n",
    "print(s)  # Output: {10, 30}\n",
    "\n",
    "#discard() method used then dome not raise an error if the item is not found\n",
    "s = {10, 20, 30}\n",
    "s.discard(40)  # No error raised\n",
    "print(s)  # Output: {10, 20, 30}\n"
   ]
  },
  {
   "cell_type": "code",
   "execution_count": 12,
   "id": "747e98cd",
   "metadata": {},
   "outputs": [
    {
     "name": "stdout",
     "output_type": "stream",
     "text": [
      "20 is present in the set\n"
     ]
    }
   ],
   "source": [
    "#check item is present in the set using 'in' keyword\n",
    "s = {10, 20, 30}\n",
    "if 20 in s:\n",
    "    print(\"20 is present in the set\")  # Output: 20 is present in the set   \n",
    "else:\n",
    "    print(\"20 is not present in the set\")\n",
    "    "
   ]
  },
  {
   "cell_type": "code",
   "execution_count": 13,
   "id": "6f6124f6",
   "metadata": {},
   "outputs": [
    {
     "name": "stdout",
     "output_type": "stream",
     "text": [
      "True\n",
      "False\n"
     ]
    }
   ],
   "source": [
    "# check whether the set is empty or not\n",
    "colors = {\"red\", \"green\", \"blue\"}\n",
    "print(\"red\" in colors)  # Output: True\n",
    "print(\"yellow\" in colors)  # Output: False"
   ]
  },
  {
   "cell_type": "code",
   "execution_count": 14,
   "id": "97e517d1",
   "metadata": {},
   "outputs": [
    {
     "name": "stdout",
     "output_type": "stream",
     "text": [
      "5\n"
     ]
    }
   ],
   "source": [
    "nums = {1, 2, 3, 4, 5}\n",
    "print(len(nums))  # Output: 5 (number of unique elements in the set)"
   ]
  },
  {
   "cell_type": "code",
   "execution_count": 15,
   "id": "143c24a3",
   "metadata": {},
   "outputs": [
    {
     "name": "stdout",
     "output_type": "stream",
     "text": [
      "set()\n"
     ]
    }
   ],
   "source": [
    "a = {1, 2, 3}\n",
    "a.clear()  # Removes all elements from the set\n",
    "print(a)  # Output: set() (an empty set)"
   ]
  },
  {
   "cell_type": "code",
   "execution_count": 18,
   "id": "e97cbb7a",
   "metadata": {},
   "outputs": [
    {
     "name": "stdout",
     "output_type": "stream",
     "text": [
      "{1, 2, 3, 5, 6}\n",
      "{3}\n",
      "{1, 2}\n",
      "{5, 6}\n"
     ]
    }
   ],
   "source": [
    "a={1, 2, 3}\n",
    "b={3, 5, 6}\n",
    "print(a.union(b))  # Output: {1, 2, 3, 5, 6} (combines both sets)\n",
    "print(a.intersection(b))  # Output: {3} (common elements in both sets)\n",
    "print(a.difference(b))  # Output: {1, 2} (elements in\n",
    "print(b.difference(a))  # Output: {5, 6} (elements in b but not in a)\n"
   ]
  },
  {
   "cell_type": "code",
   "execution_count": 20,
   "id": "c888d138",
   "metadata": {},
   "outputs": [
    {
     "name": "stdout",
     "output_type": "stream",
     "text": [
      "ApplicAtion\n"
     ]
    }
   ],
   "source": [
    "str1 = \"Application\"\n",
    "str2 = str1.replace(\"a\", \"A\")\n",
    "print(str2)  # Output: \"ApAplicAtion\""
   ]
  },
  {
   "cell_type": "code",
   "execution_count": 21,
   "id": "7c1a5d17",
   "metadata": {},
   "outputs": [
    {
     "name": "stdout",
     "output_type": "stream",
     "text": [
      "14\n"
     ]
    }
   ],
   "source": [
    "str1 = \"stack of books\"\n",
    "print(len(str1))"
   ]
  },
  {
   "cell_type": "code",
   "execution_count": 22,
   "id": "e68a2113",
   "metadata": {},
   "outputs": [
    {
     "name": "stdout",
     "output_type": "stream",
     "text": [
      "{4}\n"
     ]
    }
   ],
   "source": [
    "list1=[1,3,4,2]\n",
    "x = list1.pop(2)\n",
    "print(set([x]))"
   ]
  },
  {
   "cell_type": "code",
   "execution_count": 1,
   "id": "403cf2b2",
   "metadata": {},
   "outputs": [
    {
     "name": "stdout",
     "output_type": "stream",
     "text": [
      "hello world\n"
     ]
    }
   ],
   "source": [
    "print('hello world')"
   ]
  },
  {
   "cell_type": "code",
   "execution_count": null,
   "id": "7c156746",
   "metadata": {},
   "outputs": [],
   "source": []
  }
 ],
 "metadata": {
  "kernelspec": {
   "display_name": "base",
   "language": "python",
   "name": "python3"
  },
  "language_info": {
   "codemirror_mode": {
    "name": "ipython",
    "version": 3
   },
   "file_extension": ".py",
   "mimetype": "text/x-python",
   "name": "python",
   "nbconvert_exporter": "python",
   "pygments_lexer": "ipython3",
   "version": "3.13.2"
  }
 },
 "nbformat": 4,
 "nbformat_minor": 5
}
