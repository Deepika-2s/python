{
 "cells": [
  {
   "cell_type": "markdown",
   "id": "51e4a766",
   "metadata": {},
   "source": [
    "- point1\n",
    "    - subpoint1\n",
    "    - subpoint2\n",
    "        - a\n",
    "        - b\n",
    "- point2\n",
    "- point3\n"
   ]
  },
  {
   "cell_type": "markdown",
   "id": "34d376fc",
   "metadata": {},
   "source": [
    "\n",
    "# heading\n",
    "## heading\n",
    "### heading\n"
   ]
  },
  {
   "cell_type": "code",
   "execution_count": 1,
   "id": "8a4b919b",
   "metadata": {},
   "outputs": [
    {
     "name": "stdout",
     "output_type": "stream",
     "text": [
      "10\n"
     ]
    }
   ],
   "source": [
    "a=10\n",
    "print(a)"
   ]
  }
 ],
 "metadata": {
  "kernelspec": {
   "display_name": "base",
   "language": "python",
   "name": "python3"
  },
  "language_info": {
   "codemirror_mode": {
    "name": "ipython",
    "version": 3
   },
   "file_extension": ".py",
   "mimetype": "text/x-python",
   "name": "python",
   "nbconvert_exporter": "python",
   "pygments_lexer": "ipython3",
   "version": "3.13.2"
  }
 },
 "nbformat": 4,
 "nbformat_minor": 5
}
