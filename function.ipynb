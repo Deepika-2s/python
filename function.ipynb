{
 "cells": [
  {
   "cell_type": "markdown",
   "id": "73cd7ac5",
   "metadata": {},
   "source": [
    " function is a reusable block of code that perform a specific task\n",
    "- user define function\n",
    "   - parameterized function\n",
    "   - non parameterized function\n",
    "   - return funtion\n",
    "   - non return funtion \n",
    "   - default parameterized function\n",
    "   - lambda\n",
    "\n",
    "- built in function"
   ]
  },
  {
   "cell_type": "code",
   "execution_count": 3,
   "id": "cb865018",
   "metadata": {},
   "outputs": [],
   "source": [
    "def greet():  # function initialization\n",
    "    print(\"Hello, welcome to the function tutorial!\")\n",
    "    print(\"this is my first function\")\n",
    "    print(\"goodbye, see you soon!\")    \n"
   ]
  },
  {
   "cell_type": "code",
   "execution_count": 4,
   "id": "71002d5b",
   "metadata": {},
   "outputs": [
    {
     "name": "stdout",
     "output_type": "stream",
     "text": [
      "Hello, welcome to the function tutorial!\n",
      "this is my first function\n",
      "goodbye, see you soon!\n"
     ]
    }
   ],
   "source": [
    "greet()  # function call"
   ]
  },
  {
   "cell_type": "code",
   "execution_count": 5,
   "id": "7f3641b7",
   "metadata": {},
   "outputs": [
    {
     "name": "stdout",
     "output_type": "stream",
     "text": [
      "The sum is: 8\n"
     ]
    }
   ],
   "source": [
    "## parameterized function\n",
    "def add(a, b):  # function with parameters\n",
    "    return a + b  # returns the sum of a and b\n",
    "result = add(5, 3)  # calling the function with arguments\n",
    "print(\"The sum is:\", result)  # output the result\n"
   ]
  },
  {
   "cell_type": "code",
   "execution_count": 6,
   "id": "7123e599",
   "metadata": {},
   "outputs": [
    {
     "name": "stdout",
     "output_type": "stream",
     "text": [
      "Hello, welcome to the function tutorial!\n",
      "this is my first function\n",
      "goodbye, see you soon!\n"
     ]
    }
   ],
   "source": [
    "# non-parameterized function\n",
    "def greet():\n",
    "    print(\"Hello, welcome to the function tutorial!\")\n",
    "    print(\"this is my first function\")\n",
    "    print(\"goodbye, see you soon!\")\n",
    "greet()  # function call\n"
   ]
  },
  {
   "cell_type": "code",
   "execution_count": 7,
   "id": "1e59b842",
   "metadata": {},
   "outputs": [
    {
     "name": "stdout",
     "output_type": "stream",
     "text": [
      "The product is: 20\n"
     ]
    }
   ],
   "source": [
    "# return function\n",
    "def multiply(a, b):\n",
    "    return a * b  # returns the product of a and b\n",
    "result = multiply(4, 5)  # calling the function with arguments\n",
    "print(\"The product is:\", result)  # output the result\n"
   ]
  },
  {
   "cell_type": "code",
   "execution_count": 8,
   "id": "cb434109",
   "metadata": {},
   "outputs": [
    {
     "name": "stdout",
     "output_type": "stream",
     "text": [
      "This is a non-return function example.\n"
     ]
    }
   ],
   "source": [
    "#non-return function\n",
    "def display_message(message):\n",
    "    print(message)  # prints the message to the console\n",
    "display_message(\"This is a non-return function example.\")  # calling the function with an argument  \n"
   ]
  },
  {
   "cell_type": "code",
   "execution_count": 9,
   "id": "e9136844",
   "metadata": {},
   "outputs": [
    {
     "name": "stdout",
     "output_type": "stream",
     "text": [
      "Hello, Guest! Welcome to the function tutorial.\n",
      "Hello, Deepika! Welcome to the function tutorial.\n"
     ]
    }
   ],
   "source": [
    "#default parameterized function\n",
    "def greet(name=\"Guest\"):\n",
    "    print(f\"Hello, {name}! Welcome to the function tutorial.\")\n",
    "greet()  # calling with default parameter\n",
    "greet(\"Deepika\")  # calling with a specific name\n"
   ]
  },
  {
   "cell_type": "code",
   "execution_count": 10,
   "id": "4ab47fe7",
   "metadata": {},
   "outputs": [
    {
     "name": "stdout",
     "output_type": "stream",
     "text": [
      "The sum using lambda is: 30\n"
     ]
    }
   ],
   "source": [
    "#lambda function\n",
    "add = lambda x, y: x + y  # defining a lambda function for addition\n",
    "print(\"The sum using lambda is:\", add(10, 20))  # calling the lambda function with arguments\n"
   ]
  },
  {
   "cell_type": "code",
   "execution_count": 12,
   "id": "97f297cd",
   "metadata": {},
   "outputs": [
    {
     "name": "stdout",
     "output_type": "stream",
     "text": [
      "200\n"
     ]
    }
   ],
   "source": [
    "def multiply(a, b): #parameter\n",
    "    print(a * b)  # prints the product of a and b\n",
    "\n",
    "multiply(10,20) # arguments"
   ]
  },
  {
   "cell_type": "code",
   "execution_count": 16,
   "id": "e0c03302",
   "metadata": {},
   "outputs": [
    {
     "name": "stdout",
     "output_type": "stream",
     "text": [
      "You are eligible to vote.\n"
     ]
    }
   ],
   "source": [
    "#wap to check whether a person to eligible vote or not.\n",
    "def check_voting_eligibility(age):\n",
    "    if age >= 18:\n",
    "        print(\"You are eligible to vote.\")\n",
    "    else:\n",
    "        print(\"You are not eligible to vote.\")\n",
    "check_voting_eligibility(20)  # calling the function with an age argument\n"
   ]
  },
  {
   "cell_type": "code",
   "execution_count": 17,
   "id": "a49e1cc6",
   "metadata": {},
   "outputs": [
    {
     "name": "stdout",
     "output_type": "stream",
     "text": [
      "The average of the three numbers is: 20.0\n"
     ]
    }
   ],
   "source": [
    "# average function of three numbers\n",
    "def average_of_three_numbers(num1, num2, num3):\n",
    "    average = (num1 + num2 + num3) / 3  # calculates the average\n",
    "    return average  # returns the calculated average\n",
    "result = average_of_three_numbers(10, 20, 30)  # calling the function with three numbers\n",
    "print(\"The average of the three numbers is:\", result)  # output the result\n"
   ]
  },
  {
   "cell_type": "code",
   "execution_count": 19,
   "id": "620ed230",
   "metadata": {},
   "outputs": [
    {
     "name": "stdout",
     "output_type": "stream",
     "text": [
      "20.0\n"
     ]
    }
   ],
   "source": [
    "def avg(a, b, c):\n",
    "    avg = (a + b + c) / 3  # calculates the average of three numbers  \n",
    "    print(avg)  # prints the average\n",
    "avg(10, 20, 30)  # calling the function with three numbers\n"
   ]
  },
  {
   "cell_type": "code",
   "execution_count": 21,
   "id": "04be636b",
   "metadata": {},
   "outputs": [
    {
     "data": {
      "text/plain": [
       "20.0"
      ]
     },
     "execution_count": 21,
     "metadata": {},
     "output_type": "execute_result"
    }
   ],
   "source": [
    "def avg(a, b, c):\n",
    "    return (a + b + c) / 3  # calculates the average of three numbers  \n",
    "    print(avg)  # prints the average\n",
    "avg(10, 20, 30)  # calling the function with three numbers\n"
   ]
  },
  {
   "cell_type": "code",
   "execution_count": 22,
   "id": "db332fe4",
   "metadata": {},
   "outputs": [
    {
     "name": "stdout",
     "output_type": "stream",
     "text": [
      "10 is even.\n",
      "15 is odd.\n"
     ]
    }
   ],
   "source": [
    "# to find a number is even or odd\n",
    "def is_even_or_odd(number):\n",
    "    if number % 2 == 0:\n",
    "        return f\"{number} is even.\"\n",
    "    else:\n",
    "        return f\"{number} is odd.\"\n",
    "print(is_even_or_odd(10))  # calling the function with an even number\n",
    "print(is_even_or_odd(15))  # calling the function with an odd number\n"
   ]
  },
  {
   "cell_type": "code",
   "execution_count": 34,
   "id": "a479f9cc",
   "metadata": {},
   "outputs": [
    {
     "name": "stdout",
     "output_type": "stream",
     "text": [
      "65 is not a prime number.\n"
     ]
    }
   ],
   "source": [
    "# to find the number is prime or not\n",
    "n = int (input(\"Enter a number to check if it is prime: \"))  # user input for the number\n",
    "def is_prime(n):\n",
    "    if n <= 1:\n",
    "        return f\"{n} is not a prime number.\"\n",
    "    for i in range(2, int(n**0.5) + 1):\n",
    "        if n % i == 0:\n",
    "            return f\"{n} is not a prime number.\"\n",
    "    return f\"{n} is a prime number.\"\n",
    "print(is_prime(n))  # calling the function with the user input number\n"
   ]
  },
  {
   "cell_type": "code",
   "execution_count": 26,
   "id": "3df73987",
   "metadata": {},
   "outputs": [
    {
     "name": "stdout",
     "output_type": "stream",
     "text": [
      "The square of 5 is: 25\n",
      "The square of 10 is: 100\n"
     ]
    }
   ],
   "source": [
    "# to finnd the sqare of a number\n",
    "def square(n):\n",
    "    return n * n  # returns the square of n \n",
    "print(\"The square of 5 is:\", square(5))  # calling the function with an argument\n",
    "print(\"The square of 10 is:\", square(10))  # calling the function with another argument\n"
   ]
  },
  {
   "cell_type": "code",
   "execution_count": 49,
   "id": "4be8fe36",
   "metadata": {},
   "outputs": [
    {
     "data": {
      "text/plain": [
       "[1, 4, 9, 16, 25]"
      ]
     },
     "execution_count": 49,
     "metadata": {},
     "output_type": "execute_result"
    }
   ],
   "source": [
    "#TAKE A LIST OF 5 NUMBERS AND RETURN A NEW LIST WITH THE SQUARE OF EACH NUMBER\n",
    "def lst(numbers):\n",
    "    squared_numbers = []  \n",
    "    for number in numbers:\n",
    "        squared_numbers.append(number ** 2)  \n",
    "    return squared_numbers  \n",
    "lst([1, 2, 3, 4, 5])\n",
    "             "
   ]
  },
  {
   "cell_type": "code",
   "execution_count": 43,
   "id": "d24e9aa0",
   "metadata": {},
   "outputs": [
    {
     "data": {
      "text/plain": [
       "[2, 4, 6, 8, 10]"
      ]
     },
     "execution_count": 43,
     "metadata": {},
     "output_type": "execute_result"
    }
   ],
   "source": [
    "# TAKE A LIST OF 10 NUMBERS AND RETURN A NEW LIST WITH ONLY THE EVEN NUMBERS\n",
    "def lst(numbers):\n",
    "    even_numbers = []  \n",
    "    for number in numbers:\n",
    "        if number % 2 == 0: \n",
    "            even_numbers.append(number)  \n",
    "    return even_numbers  \n",
    "lst( [1, 2, 3, 4, 5, 6, 7, 8, 9, 10]  )\n"
   ]
  },
  {
   "cell_type": "markdown",
   "id": "61619a1c",
   "metadata": {},
   "source": [
    "## list comprehension"
   ]
  },
  {
   "cell_type": "code",
   "execution_count": 50,
   "id": "8293f138",
   "metadata": {},
   "outputs": [
    {
     "name": "stdout",
     "output_type": "stream",
     "text": [
      "The squares of the numbers are: [1, 4, 9, 16, 25, 36, 49, 64, 81, 100]\n"
     ]
    }
   ],
   "source": [
    "lst = [1, 2, 3, 4, 5, 6, 7, 8, 9, 10]  # list of numbers\n",
    "squares = [num**2 for num in lst]  # list comprehension to calculate squares\n",
    "print(\"The squares of the numbers are:\", squares)  # output the list of squares"
   ]
  },
  {
   "cell_type": "code",
   "execution_count": 54,
   "id": "32c886e1",
   "metadata": {},
   "outputs": [
    {
     "data": {
      "text/plain": [
       "[1, 4, 9, 16, 25]"
      ]
     },
     "execution_count": 54,
     "metadata": {},
     "output_type": "execute_result"
    }
   ],
   "source": [
    "def square_lst(numbers):\n",
    "    return [x ** 2 for x in numbers]  # returns a new list with the square of each number\n",
    "square_lst([1, 2, 3, 4, 5])  # calling the function with a list of numbersprint(\"The square of the numbers in the list is:\", square_list)  # output the   list of squares\n"
   ]
  },
  {
   "cell_type": "code",
   "execution_count": 58,
   "id": "85a7af71",
   "metadata": {},
   "outputs": [
    {
     "name": "stdout",
     "output_type": "stream",
     "text": [
      "('i love ', 'uk')\n",
      "('i love ', 'USA')\n",
      "('i love ', 'India')\n"
     ]
    }
   ],
   "source": [
    "def my_country(country = \"India\"):  # function with a default parameter\n",
    "    return \"i love \" , country  # returns a string indicating love for the country\n",
    "print(my_country(\"uk\"))  # calling the function with an argument     \n",
    "print(my_country(\"USA\"))  # calling the function with another argument\n",
    "print(my_country())  # calling the function without an argument to use the default value"
   ]
  },
  {
   "cell_type": "code",
   "execution_count": 60,
   "id": "3a7ea580",
   "metadata": {},
   "outputs": [
    {
     "data": {
      "text/plain": [
       "10"
      ]
     },
     "execution_count": 60,
     "metadata": {},
     "output_type": "execute_result"
    }
   ],
   "source": [
    "def square(num):\n",
    "\n",
    "    return num * 2    # returns the square of n\n",
    "square(5)  # calling the function with an argument"
   ]
  },
  {
   "cell_type": "code",
   "execution_count": 62,
   "id": "130e7a9d",
   "metadata": {},
   "outputs": [
    {
     "name": "stdout",
     "output_type": "stream",
     "text": [
      "Is 5 odd? True\n"
     ]
    }
   ],
   "source": [
    "# lambda function to check a number is odd\n",
    "is_odd = lambda x: x % 2 != 0  # defining a lambda function to check if a number is odd\n",
    "print(\"Is 5 odd?\", is_odd(5))  # calling the lambda function\n"
   ]
  },
  {
   "cell_type": "code",
   "execution_count": 64,
   "id": "b13272a9",
   "metadata": {},
   "outputs": [
    {
     "name": "stdout",
     "output_type": "stream",
     "text": [
      "Is 'a' a vowel? True\n"
     ]
    }
   ],
   "source": [
    "#lambda function to check a character is vowel or not\n",
    "is_vowel = lambda char: char.lower() in 'aeiou'  # defining a lambda function to check if a character is a vowel\n",
    "print(\"Is 'a' a vowel?\", is_vowel('a'))  # calling the lambda function with a vowel"
   ]
  },
  {
   "cell_type": "code",
   "execution_count": 65,
   "id": "a183e552",
   "metadata": {},
   "outputs": [
    {
     "name": "stdout",
     "output_type": "stream",
     "text": [
      "10% of 20000 is: 2000.0\n"
     ]
    }
   ],
   "source": [
    "# lambda function to calculate 10% of 20000.\n",
    "calculate_percentage = lambda x: x * 0.10  # defining a lambda function to calculate 10% of a number\n",
    "print(\"10% of 20000 is:\", calculate_percentage(20000))  # calling the lambda function with 20000 as an argument"
   ]
  },
  {
   "cell_type": "code",
   "execution_count": 67,
   "id": "5eaaf924",
   "metadata": {},
   "outputs": [
    {
     "name": "stdout",
     "output_type": "stream",
     "text": [
      "Is 2020 a leap year? True\n"
     ]
    }
   ],
   "source": [
    "#lambda function to calculate a year is leap year or not\n",
    "is_leap_year = lambda year: (year % 4 == 0 and year % 100 != 0) or (year % 400 == 0)  # defining a lambda function to check if a year is a leap year\n",
    "print(\"Is 2020 a leap year?\", is_leap_year(2020))  # calling the lambda function with a leap year"
   ]
  },
  {
   "cell_type": "code",
   "execution_count": null,
   "id": "db388223",
   "metadata": {},
   "outputs": [],
   "source": []
  }
 ],
 "metadata": {
  "kernelspec": {
   "display_name": "base",
   "language": "python",
   "name": "python3"
  },
  "language_info": {
   "codemirror_mode": {
    "name": "ipython",
    "version": 3
   },
   "file_extension": ".py",
   "mimetype": "text/x-python",
   "name": "python",
   "nbconvert_exporter": "python",
   "pygments_lexer": "ipython3",
   "version": "3.13.2"
  }
 },
 "nbformat": 4,
 "nbformat_minor": 5
}
