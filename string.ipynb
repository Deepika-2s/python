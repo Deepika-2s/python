{
 "cells": [
  {
   "cell_type": "markdown",
   "id": "b643b4cc",
   "metadata": {},
   "source": [
    "#### string means numbers,letters, or group of characters, it can be single(' ') or double(\" \") quote"
   ]
  },
  {
   "cell_type": "code",
   "execution_count": 3,
   "id": "3cffe627",
   "metadata": {},
   "outputs": [
    {
     "name": "stdout",
     "output_type": "stream",
     "text": [
      "deepika\n",
      "bangalore\n"
     ]
    }
   ],
   "source": [
    "name = \"deepika\"\n",
    "city = \"bangalore\"\n",
    "print(name)\n",
    "print(city)"
   ]
  },
  {
   "cell_type": "markdown",
   "id": "e56001b6",
   "metadata": {},
   "source": [
    "## how to declare a string"
   ]
  },
  {
   "cell_type": "code",
   "execution_count": 4,
   "id": "d6ab867f",
   "metadata": {},
   "outputs": [
    {
     "name": "stdout",
     "output_type": "stream",
     "text": [
      "hello\n",
      "world\n"
     ]
    }
   ],
   "source": [
    "text1 = \"hello\"\n",
    "text2 = \"world\" \n",
    "print(text1 )\n",
    "print(text2)    "
   ]
  },
  {
   "cell_type": "markdown",
   "id": "b6ab3732",
   "metadata": {},
   "source": [
    "## printing a string"
   ]
  },
  {
   "cell_type": "code",
   "execution_count": 5,
   "id": "086f750b",
   "metadata": {},
   "outputs": [
    {
     "name": "stdout",
     "output_type": "stream",
     "text": [
      "i am learning python programming\n"
     ]
    }
   ],
   "source": [
    "msg = \"i am learning python programming\"\n",
    "print(msg)"
   ]
  },
  {
   "cell_type": "markdown",
   "id": "620a91f8",
   "metadata": {},
   "source": [
    "## srting indexing (letter ko position se access krna )"
   ]
  },
  {
   "cell_type": "code",
   "execution_count": 6,
   "id": "fd0be1de",
   "metadata": {},
   "outputs": [
    {
     "name": "stdout",
     "output_type": "stream",
     "text": [
      "p\n",
      "y\n",
      "t\n"
     ]
    }
   ],
   "source": [
    "word = \"python\"\n",
    "print(word[0])  # p \n",
    "print(word[1])  # y\n",
    "print(word[2])  # t "
   ]
  },
  {
   "cell_type": "markdown",
   "id": "6b54e734",
   "metadata": {},
   "source": [
    "## negative indexing"
   ]
  },
  {
   "cell_type": "code",
   "execution_count": 7,
   "id": "030c4e37",
   "metadata": {},
   "outputs": [
    {
     "name": "stdout",
     "output_type": "stream",
     "text": [
      "n\n",
      "o\n"
     ]
    }
   ],
   "source": [
    "print(word[-1])  # n\n",
    "print(word[-2])  # o"
   ]
  },
  {
   "cell_type": "markdown",
   "id": "81aca2bd",
   "metadata": {},
   "source": [
    "## string concatenation"
   ]
  },
  {
   "cell_type": "code",
   "execution_count": 8,
   "id": "d38f054e",
   "metadata": {},
   "outputs": [
    {
     "name": "stdout",
     "output_type": "stream",
     "text": [
      "deepika singh\n"
     ]
    }
   ],
   "source": [
    "first_name = \"deepika\"\n",
    "last_name = \"singh\" \n",
    "full_name = first_name + \" \" + last_name\n",
    "print(full_name)  # deepika singh   "
   ]
  },
  {
   "cell_type": "markdown",
   "id": "9183f249",
   "metadata": {},
   "source": [
    "## string with numbers"
   ]
  },
  {
   "cell_type": "code",
   "execution_count": 9,
   "id": "a25e297d",
   "metadata": {},
   "outputs": [
    {
     "name": "stdout",
     "output_type": "stream",
     "text": [
      "i am 25 years old\n"
     ]
    }
   ],
   "source": [
    "age = 25\n",
    "print(\"i am \" + str(age) + \" years old\")  # i am 25 years old"
   ]
  },
  {
   "cell_type": "markdown",
   "id": "e3645af5",
   "metadata": {},
   "source": [
    "### function of string\n",
    "- len() - length \n",
    "- .upper() - all capital\n",
    "- .lower() - all small\n",
    "- .replace() - for replacing\n",
    "- .count() - for counting"
   ]
  },
  {
   "cell_type": "code",
   "execution_count": 11,
   "id": "3dd2ac00",
   "metadata": {},
   "outputs": [
    {
     "name": "stdout",
     "output_type": "stream",
     "text": [
      "6\n",
      "PYTHON\n",
      "python\n",
      "Python\n",
      "1\n"
     ]
    }
   ],
   "source": [
    "word = \"python\"\n",
    "print(len(word))  # lenth of the string is 6\n",
    "print(word.upper())  # converts to uppercase PYTHON\n",
    "print(word.lower())  # converts to lowercase python\n",
    "print(word.replace(\"p\", \"P\"))  # Python\n",
    "print(word.count(\"o\"))  # 1"
   ]
  },
  {
   "cell_type": "markdown",
   "id": "b54c305e",
   "metadata": {},
   "source": [
    "### .capitalized()\n",
    "### .title()"
   ]
  },
  {
   "cell_type": "code",
   "execution_count": 14,
   "id": "f60bb2e7",
   "metadata": {},
   "outputs": [
    {
     "name": "stdout",
     "output_type": "stream",
     "text": [
      "Hello world\n",
      "Hello World\n",
      "False\n",
      "True\n",
      "True\n",
      "True\n",
      "6\n",
      "hello python\n",
      "['hello', 'world']\n",
      "['hell', ' w', 'rld']\n",
      "['hello', 'world']\n",
      "['he', '', 'o wor', 'd']\n",
      "['hello world']\n",
      "['he', 'lo world']\n",
      "['he', '', 'o world']\n",
      "['he', '', 'o wor', 'd']\n",
      "['he', '', 'o wor', 'd']\n"
     ]
    }
   ],
   "source": [
    "text = \"hello world\"\n",
    "print(text.capitalize())  # convert first letter to uppercase Hello world\n",
    "print(text.title())  # CONvert first letter of each word to uppercase Hello World\n",
    "print(text.isupper())  # check if all letters are uppercase False   \n",
    "print(text.islower())  # check if all letters are lowercase True\n",
    "print(text.startswith(\"hello\"))  # check if string starts with hello True\n",
    "print(text.endswith(\"world\"))  # check if string ends with world True\n",
    "print(text.find(\"world\"))  # find the index of world 6\n",
    "print(text.replace(\"world\", \"python\"))  # replace world with python hello python\n",
    "print(text.split())  # split the string into a list ['hello', 'world']\n",
    "print(text.split(\"o\"))  # split the string by 'o' ['hell', ' w', 'rld']\n",
    "print(text.split(\" \"))  # split the string by space ['hello', 'world']\n",
    "print(text.split(\"l\"))  # split the string by 'l' ['he', 'lo wor', 'd']\n",
    "print(text.split(\"x\"))  # split the string by 'x' ['hello world']\n",
    "print(text.split(\"l\", 1))  # split the string by 'l' only once ['he', 'lo world']\n",
    "print(text.split(\"l\", 2))  # split the string by 'l' only\n",
    "# split the string by 'l' only twice ['he', 'lo wor', 'd']\n",
    "print(text.split(\"l\", 3))  # split the string by 'l' only three times ['he', 'lo wor', 'd']\n",
    "print(text.split(\"l\", 4))  # split the string by 'l' only\n"
   ]
  },
  {
   "cell_type": "code",
   "execution_count": 20,
   "id": "3226425a",
   "metadata": {},
   "outputs": [
    {
     "name": "stdout",
     "output_type": "stream",
     "text": [
      "Monday\n",
      "Monday\n"
     ]
    }
   ],
   "source": [
    "## .replace\n",
    "day = \"monday\"\n",
    "print(day.replace(\"m\", \"M\"))  # replace m with M Monday\n",
    "print(day.replace(\"m\", \"M\").capitalize())  # replace m with M and capitalize Monday"
   ]
  },
  {
   "cell_type": "code",
   "execution_count": 17,
   "id": "20a8dbe8",
   "metadata": {},
   "outputs": [
    {
     "name": "stdout",
     "output_type": "stream",
     "text": [
      "3\n"
     ]
    }
   ],
   "source": [
    "## .count()\n",
    "text = \"hello world\"\n",
    "print(text.count(\"l\"))  # count the number of l in hello world 3"
   ]
  },
  {
   "cell_type": "code",
   "execution_count": 21,
   "id": "9bea5cea",
   "metadata": {},
   "outputs": [
    {
     "name": "stdout",
     "output_type": "stream",
     "text": [
      "6\n"
     ]
    }
   ],
   "source": [
    "## .find()\n",
    "text = \"hello world\"\n",
    "print(text.find(\"world\"))  # find the index of world 6"
   ]
  },
  {
   "cell_type": "code",
   "execution_count": 22,
   "id": "dd61d4e6",
   "metadata": {},
   "outputs": [
    {
     "name": "stdout",
     "output_type": "stream",
     "text": [
      "True\n"
     ]
    }
   ],
   "source": [
    "#startwith()\n",
    "text = \"hello world\"\n",
    "print(text.startswith(\"hello\"))  # check if string starts with hello True"
   ]
  },
  {
   "cell_type": "code",
   "execution_count": 23,
   "id": "ac8c1e53",
   "metadata": {},
   "outputs": [
    {
     "name": "stdout",
     "output_type": "stream",
     "text": [
      "False\n"
     ]
    }
   ],
   "source": [
    "#.endwith()\n",
    "text = \"hello world\"\n",
    "print(text.endswith(\"i\"))  # check if string ends with world True"
   ]
  },
  {
   "cell_type": "code",
   "execution_count": 24,
   "id": "bdee32d7",
   "metadata": {},
   "outputs": [
    {
     "name": "stdout",
     "output_type": "stream",
     "text": [
      "['hello', 'world']\n",
      "['hell', ' w', 'rld']\n"
     ]
    }
   ],
   "source": [
    "#.split()\n",
    "text = \"hello world\"\n",
    "print(text.split())  # split the string into a list ['hello', 'world']\n",
    "print(text.split(\"o\"))  # split the string by 'o' ['hell', '"
   ]
  },
  {
   "cell_type": "code",
   "execution_count": 25,
   "id": "8e59dc76",
   "metadata": {},
   "outputs": [
    {
     "name": "stdout",
     "output_type": "stream",
     "text": [
      "hello\n",
      "world\n"
     ]
    }
   ],
   "source": [
    "# slicing string\n",
    "text = \"hello world\"\n",
    "print(text[0:5])  # print first 5 characters hello\n",
    "print(text[6:11])  # print characters from index 6 to 10 world"
   ]
  },
  {
   "cell_type": "code",
   "execution_count": 26,
   "id": "3a5f496d",
   "metadata": {},
   "outputs": [
    {
     "name": "stdout",
     "output_type": "stream",
     "text": [
      "hellohellohello\n",
      "hello world\n",
      "my name is deepika and i am 25 years old\n",
      "my name is deepika and i am 25 years old\n",
      "my name is deepika and i am 25 years old\n",
      "hello     \n",
      "     hello\n",
      "  hello   \n",
      "hello-----\n",
      "-----hello\n",
      "--hello---\n",
      "hello\n",
      "hello   \n",
      "   hello\n"
     ]
    }
   ],
   "source": [
    "# srtring repetition\n",
    "text = \"hello\"\n",
    "print(text * 3)  # repeat the string 3 times hellohellohello    \n",
    "# string concatenation\n",
    "text1 = \"hello\"\n",
    "text2 = \"world\"\n",
    "print(text1 + \" \" + text2)  # concatenate two strings hello world\n",
    "# string formatting\n",
    "name = \"deepika\"\n",
    "age = 25\n",
    "print(\"my name is {} and i am {} years old\".format(name, age))  # my name is deepika and i am 25 years old\n",
    "# f-string formatting\n",
    "print(f\"my name is {name} and i am {age} years old\")\n",
    "# my name is deepika and i am 25 years old\n",
    "# string interpolation\n",
    "print(\"my name is %s and i am %d years old\" % (name,\n",
    "age))  # my name is deepika and i am 25 years old\n",
    "# string alignment\n",
    "text = \"hello\"\n",
    "print(text.ljust(10))  # left align the string hello\n",
    "print(text.rjust(10))  # right align the string      hello\n",
    "print(text.center(10))  # center align the string   hello\n",
    "print(text.ljust(10, \"-\"))  # left align the string with - hello-----\n",
    "print(text.rjust(10, \"-\"))  # right align the string with - -----hello\n",
    "print(text.center(10, \"-\"))  # center align the string with - --hello---\n",
    "# string stripping\n",
    "text = \"   hello   \"    \n",
    "print(text.strip())  # remove leading and trailing spaces hello\n",
    "print(text.lstrip())  # remove leading spaces hello\n",
    "print(text.rstrip())  # remove trailing spaces    hello"
   ]
  },
  {
   "cell_type": "code",
   "execution_count": 27,
   "id": "52dbe64f",
   "metadata": {},
   "outputs": [
    {
     "name": "stdout",
     "output_type": "stream",
     "text": [
      "True\n",
      "False\n",
      "False\n"
     ]
    }
   ],
   "source": [
    "#string substring(is/is not)\n",
    "text = \"hello world\"\n",
    "print(\"hello\" in text)  # check if hello is in the string True\n",
    "print(\"world\" not in text)  # check if world is not in the string False\n",
    "print(\"python\" in text)  # check if python is in the string False\n"
   ]
  },
  {
   "cell_type": "code",
   "execution_count": 28,
   "id": "d19d66b9",
   "metadata": {},
   "outputs": [
    {
     "name": "stdout",
     "output_type": "stream",
     "text": [
      "hello world\n",
      "this is a multiline string\n",
      "it can span multiple lines\n"
     ]
    }
   ],
   "source": [
    "#multiline string()\n",
    "text = \"\"\"hello world\n",
    "this is a multiline string\n",
    "it can span multiple lines\"\"\"\n",
    "print(text)  # print the multiline string\n"
   ]
  },
  {
   "cell_type": "code",
   "execution_count": 29,
   "id": "b9e4bbf7",
   "metadata": {},
   "outputs": [
    {
     "name": "stdout",
     "output_type": "stream",
     "text": [
      "p\n",
      "y\n",
      "t\n",
      "h\n",
      "o\n",
      "n\n"
     ]
    }
   ],
   "source": [
    "word = \"python\"\n",
    "for i in range(len(word)):\n",
    "    print(word[i])  # print each character in the string p y t h o n"
   ]
  },
  {
   "cell_type": "markdown",
   "id": "32d09300",
   "metadata": {},
   "source": [
    "## for letter in word\n",
    "step by step charcter print by using for loop\n",
    "- pyton string ek seqence hoti hai , jisse hm lolop kr skte hai "
   ]
  },
  {
   "cell_type": "code",
   "execution_count": 33,
   "id": "cbb2b7b4",
   "metadata": {},
   "outputs": [
    {
     "name": "stdout",
     "output_type": "stream",
     "text": [
      "index: 0: h\n",
      "index: 1: e\n",
      "index: 2: l\n",
      "index: 3: l\n",
      "index: 4: o\n"
     ]
    }
   ],
   "source": [
    "text = \"hello\"\n",
    "for i in range(len(text)):\n",
    "    print(f\"index: {i}: {text[i]}\")    # print the index of each character\n"
   ]
  },
  {
   "cell_type": "code",
   "execution_count": 34,
   "id": "165101df",
   "metadata": {},
   "outputs": [
    {
     "name": "stdout",
     "output_type": "stream",
     "text": [
      "Your name is deepika\n"
     ]
    }
   ],
   "source": [
    "## wap to take your name as input and print it.\n",
    "name = input(\"Enter your name: \")\n",
    "print(f\"Your name is {name}\")  # print the name entered by user\n"
   ]
  },
  {
   "cell_type": "code",
   "execution_count": 35,
   "id": "1a9b4797",
   "metadata": {},
   "outputs": [
    {
     "name": "stdout",
     "output_type": "stream",
     "text": [
      "First character: p\n",
      "Last character: n\n"
     ]
    }
   ],
   "source": [
    "##print the first and last character of a string'python'    \n",
    "word = \"python\"\n",
    "print(f\"First character: {word[0]}\")  # First character: p\n",
    "print(f\"Last character: {word[-1]}\")  # Last character: n"
   ]
  },
  {
   "cell_type": "code",
   "execution_count": 37,
   "id": "6c3e1983",
   "metadata": {},
   "outputs": [
    {
     "name": "stdout",
     "output_type": "stream",
     "text": [
      "11\n"
     ]
    }
   ],
   "source": [
    "#find the length of a string\"heello world\"using len() function\n",
    "text = \"hello world\"    \n",
    "print(len(text))  # find the length of the string 11\n"
   ]
  },
  {
   "cell_type": "code",
   "execution_count": 38,
   "id": "58587ba8",
   "metadata": {},
   "outputs": [
    {
     "name": "stdout",
     "output_type": "stream",
     "text": [
      "hello world\n"
     ]
    }
   ],
   "source": [
    "#concatenate two strings: \"hello\" and \"world\"\n",
    "text1 = \"hello\"\n",
    "text2 = \"world\"\n",
    "print(text1 + \" \" + text2)  # concatenate two strings hello world\n"
   ]
  },
  {
   "cell_type": "code",
   "execution_count": 39,
   "id": "b468c812",
   "metadata": {},
   "outputs": [
    {
     "name": "stdout",
     "output_type": "stream",
     "text": [
      "HELLO\n"
     ]
    }
   ],
   "source": [
    "#convert\"hello\" to uppercase using string method\n",
    "text = \"hello\"\n",
    "print(text.upper())  # convert to uppercase HELLO\n"
   ]
  },
  {
   "cell_type": "code",
   "execution_count": 40,
   "id": "1e69675c",
   "metadata": {},
   "outputs": [
    {
     "name": "stdout",
     "output_type": "stream",
     "text": [
      "l\n"
     ]
    }
   ],
   "source": [
    "#print the character at index 2 of the string \"hello\"\n",
    "text = \"hello\"\n",
    "print(text[2])  # print the character at index 2 l\n"
   ]
  },
  {
   "cell_type": "code",
   "execution_count": 41,
   "id": "3b5d5d65",
   "metadata": {},
   "outputs": [
    {
     "name": "stdout",
     "output_type": "stream",
     "text": [
      "False\n",
      "True\n"
     ]
    }
   ],
   "source": [
    "#check whether \"a \" is present in the string \"hello\"using in operator\n",
    "text = \"hello\"\n",
    "print(\"a\" in text)  # check if a is in the string False\n",
    "print(\"e\" in text)  # check if e is in the string True"
   ]
  },
  {
   "cell_type": "code",
   "execution_count": 42,
   "id": "ec2c9a8b",
   "metadata": {},
   "outputs": [
    {
     "name": "stdout",
     "output_type": "stream",
     "text": [
      "The character 'o' appears 2 times in the sentence.\n"
     ]
    }
   ],
   "source": [
    "#take a sentence and count how many times a character appears in it\n",
    "sentence = \"hello world\"\n",
    "character = \"o\"\n",
    "count = sentence.count(character)\n",
    "print(f\"The character '{character}' appears {count} times in the sentence.\")  # The character 'o' appears 2 times in the sentence.\n"
   ]
  },
  {
   "cell_type": "code",
   "execution_count": 44,
   "id": "f802fdf0",
   "metadata": {},
   "outputs": [
    {
     "name": "stdout",
     "output_type": "stream",
     "text": [
      "InceptionInceptionInception\n"
     ]
    }
   ],
   "source": [
    "#create a string with your faviourite movie name and repeat it 3 times\n",
    "movie_name = \"Inception\"\n",
    "print(movie_name * 3)  # repeat the movie name 3 times InceptionInceptionInception\n"
   ]
  },
  {
   "cell_type": "code",
   "execution_count": 45,
   "id": "d8a5a73a",
   "metadata": {},
   "outputs": [
    {
     "name": "stdout",
     "output_type": "stream",
     "text": [
      "['python', 'is', 'fun']\n"
     ]
    }
   ],
   "source": [
    "#split the sentence \"python is fun\"into a list using . split() method\n",
    "sentence = \"python is fun\"\n",
    "print(sentence.split())  # split the sentence into a list ['python', 'is', 'fun']\n"
   ]
  },
  {
   "cell_type": "code",
   "execution_count": 46,
   "id": "5c8bf532",
   "metadata": {},
   "outputs": [
    {
     "name": "stdout",
     "output_type": "stream",
     "text": [
      "gram\n"
     ]
    }
   ],
   "source": [
    "#slice the string \"programming\" to get \"gram\".\n",
    "text = \"programming\"\n",
    "sliced_text = text[3:7]  # slice the string to get \"gram\n",
    "print(sliced_text)  # print the sliced text gram\n"
   ]
  },
  {
   "cell_type": "code",
   "execution_count": 47,
   "id": "69c5ad7f",
   "metadata": {},
   "outputs": [
    {
     "name": "stdout",
     "output_type": "stream",
     "text": [
      "olleh\n"
     ]
    }
   ],
   "source": [
    "#reverse the string \"hello\" using slicing\n",
    "text = \"hello\"\n",
    "reversed_text = text[::-1]  # reverse the string using slicing olleh\n",
    "print(reversed_text)  # print the reversed text olleh"
   ]
  },
  {
   "cell_type": "code",
   "execution_count": 1,
   "id": "4fd0b6c2",
   "metadata": {},
   "outputs": [
    {
     "name": "stdout",
     "output_type": "stream",
     "text": [
      "good evening\n"
     ]
    }
   ],
   "source": [
    "#replace \"morning\" with \"evening\" in the string \"good morning\"\n",
    "greeting = \"good morning\"\n",
    "new_greeting = greeting.replace(\"morning\", \"evening\")  # replace morning with evening\n",
    "print(new_greeting)  # print the new greeting good evening\n"
   ]
  },
  {
   "cell_type": "code",
   "execution_count": 1,
   "id": "1b3c0365",
   "metadata": {},
   "outputs": [
    {
     "name": "stdout",
     "output_type": "stream",
     "text": [
      "False\n",
      "True\n"
     ]
    }
   ],
   "source": [
    "#check whether the string \"HELLO\" is uppercase using isupper() method\n",
    "text = \"hello\"  \n",
    "print(text.isupper())  # check if the string is uppercase False\n",
    "#check whether the string \"HELLO\" is uppercase using isupper() method\n",
    "text = \"HELLO\"\n",
    "print(text.isupper())  # check if the string is uppercase True\n"
   ]
  },
  {
   "cell_type": "code",
   "execution_count": 3,
   "id": "7c6f0ddf",
   "metadata": {},
   "outputs": [
    {
     "name": "stdout",
     "output_type": "stream",
     "text": [
      "The number of vowels in the string is: 4\n"
     ]
    }
   ],
   "source": [
    "# input a string and print how many vowels are in it\n",
    "input_string = input(\"Enter a string: \")\n",
    "vowels = \"aeiouAEIOU\"\n",
    "count = sum(1 for char in input_string if char in vowels)\n",
    "print(f\"The number of vowels in the string is: {count}\")  # print the count of vowels\n"
   ]
  },
  {
   "cell_type": "code",
   "execution_count": 4,
   "id": "fb8bdce7",
   "metadata": {},
   "outputs": [
    {
     "name": "stdout",
     "output_type": "stream",
     "text": [
      "euaio\n"
     ]
    }
   ],
   "source": [
    "#wap to print only the vowels from \"education\"\n",
    "text = \"education\"\n",
    "vowels = \"aeiouAEIOU\"\n",
    "vowel_chars = [char for char in text if char in vowels]\n",
    "print(\"\".join(vowel_chars))  # print the vowels in the string education\n"
   ]
  },
  {
   "cell_type": "code",
   "execution_count": 5,
   "id": "df0af845",
   "metadata": {},
   "outputs": [
    {
     "name": "stdout",
     "output_type": "stream",
     "text": [
      "learn python\n"
     ]
    }
   ],
   "source": [
    "#join the list[\"learn\",\"python\"]into a single string\n",
    "words = [\"learn\", \"python\"]\n",
    "joined_string = \" \".join(words)  # join the list into a single string\n",
    "print(joined_string)  # print the joined string learn python\n"
   ]
  },
  {
   "cell_type": "code",
   "execution_count": 6,
   "id": "e4854ab2",
   "metadata": {},
   "outputs": [
    {
     "name": "stdout",
     "output_type": "stream",
     "text": [
      "True\n",
      "True\n"
     ]
    }
   ],
   "source": [
    "#check if the string \"apple\" starts with \"a\" and ends with \"e\"\n",
    "text = \"apple\"\n",
    "print(text.startswith(\"a\"))  # check if the string starts with a True\n",
    "print(text.endswith(\"e\"))  # check if the string ends with e True\n"
   ]
  },
  {
   "cell_type": "code",
   "execution_count": 7,
   "id": "72693e46",
   "metadata": {},
   "outputs": [
    {
     "name": "stdout",
     "output_type": "stream",
     "text": [
      "Line 1\n",
      "Line 2\n",
      "Line 3\n"
     ]
    }
   ],
   "source": [
    "#split a 3-line string using .splitlines() and print each line\n",
    "text = \"\"\"Line 1\n",
    "Line 2\n",
    "Line 3\"\"\"\n",
    "lines = text.splitlines()  # split the string into lines\n",
    "for line in lines:\n",
    "    print(line)  # print each line      \n",
    "    "
   ]
  },
  {
   "cell_type": "code",
   "execution_count": 8,
   "id": "103e2035",
   "metadata": {},
   "outputs": [
    {
     "name": "stdout",
     "output_type": "stream",
     "text": [
      "what\n",
      "is\n",
      "your\n",
      "name\n"
     ]
    }
   ],
   "source": [
    "#input a sentence and print each word on a new line using loop.\n",
    "sentence = input(\"Enter a sentence: \")\n",
    "words = sentence.split()  # split the sentence into words\n",
    "for word in words:\n",
    "    print(word)  # print each word on a new line\n",
    "        "
   ]
  }
 ],
 "metadata": {
  "kernelspec": {
   "display_name": "base",
   "language": "python",
   "name": "python3"
  },
  "language_info": {
   "codemirror_mode": {
    "name": "ipython",
    "version": 3
   },
   "file_extension": ".py",
   "mimetype": "text/x-python",
   "name": "python",
   "nbconvert_exporter": "python",
   "pygments_lexer": "ipython3",
   "version": "3.13.2"
  }
 },
 "nbformat": 4,
 "nbformat_minor": 5
}
