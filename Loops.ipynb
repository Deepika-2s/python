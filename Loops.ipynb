{
 "cells": [
  {
   "cell_type": "markdown",
   "id": "6b409f37",
   "metadata": {},
   "source": [
    "## for loop"
   ]
  },
  {
   "cell_type": "code",
   "execution_count": 4,
   "id": "fd0da033",
   "metadata": {},
   "outputs": [
    {
     "name": "stdout",
     "output_type": "stream",
     "text": [
      "apple\n",
      "mango\n",
      "banana\n",
      "guava\n",
      "papaya\n"
     ]
    }
   ],
   "source": [
    "lst = [\"apple\",\"mango\",\"banana\",\"guava\",\"papaya\"]\n",
    "for i in lst:\n",
    "    print(i)\n",
    "    "
   ]
  },
  {
   "cell_type": "code",
   "execution_count": 3,
   "id": "344e1cab",
   "metadata": {},
   "outputs": [
    {
     "name": "stdout",
     "output_type": "stream",
     "text": [
      "apple mango banana guava papaya "
     ]
    }
   ],
   "source": [
    "lst = [\"apple\",\"mango\",\"banana\",\"guava\",\"papaya\"]\n",
    "for i in lst:\n",
    "    print(i, end=\" \")"
   ]
  },
  {
   "cell_type": "code",
   "execution_count": 5,
   "id": "e768469c",
   "metadata": {},
   "outputs": [
    {
     "name": "stdout",
     "output_type": "stream",
     "text": [
      "0\n",
      "1\n",
      "2\n",
      "3\n",
      "4\n"
     ]
    }
   ],
   "source": [
    "for i in range(5):\n",
    "    print(i)"
   ]
  },
  {
   "cell_type": "code",
   "execution_count": 6,
   "id": "873df5a6",
   "metadata": {},
   "outputs": [
    {
     "name": "stdout",
     "output_type": "stream",
     "text": [
      "1\n",
      "2\n",
      "3\n",
      "4\n"
     ]
    }
   ],
   "source": [
    "for i in range(1,5):\n",
    "    print(i)\n"
   ]
  },
  {
   "cell_type": "code",
   "execution_count": 7,
   "id": "1472717d",
   "metadata": {},
   "outputs": [
    {
     "name": "stdout",
     "output_type": "stream",
     "text": [
      "1\n",
      "3\n",
      "5\n",
      "7\n",
      "9\n"
     ]
    }
   ],
   "source": [
    "for i in range(1,11,2):\n",
    "    print(i)"
   ]
  },
  {
   "cell_type": "markdown",
   "id": "8d48d55a",
   "metadata": {},
   "source": [
    "## print even no. in range 2 to 20 using condition "
   ]
  },
  {
   "cell_type": "code",
   "execution_count": 2,
   "id": "4ff91159",
   "metadata": {},
   "outputs": [
    {
     "name": "stdout",
     "output_type": "stream",
     "text": [
      "2\n",
      "4\n",
      "6\n",
      "8\n",
      "10\n",
      "12\n",
      "14\n",
      "16\n",
      "18\n",
      "20\n"
     ]
    }
   ],
   "source": [
    "for i in range(2,21):\n",
    "    if i % 2 == 0:\n",
    "        print(i)"
   ]
  },
  {
   "cell_type": "markdown",
   "id": "f8812a03",
   "metadata": {},
   "source": [
    "### print odd no. in range 2 to 20 without using condition"
   ]
  },
  {
   "cell_type": "code",
   "execution_count": 4,
   "id": "dd866d9b",
   "metadata": {},
   "outputs": [
    {
     "name": "stdout",
     "output_type": "stream",
     "text": [
      "3\n",
      "5\n",
      "7\n",
      "9\n",
      "11\n",
      "13\n",
      "15\n",
      "17\n",
      "19\n"
     ]
    }
   ],
   "source": [
    "for i in range(2,20,2):\n",
    "    print(i+1)"
   ]
  },
  {
   "cell_type": "markdown",
   "id": "38e2c7be",
   "metadata": {},
   "source": [
    "## while loop"
   ]
  },
  {
   "cell_type": "code",
   "execution_count": 16,
   "id": "3e256e9f",
   "metadata": {},
   "outputs": [
    {
     "name": "stdout",
     "output_type": "stream",
     "text": [
      "1\n",
      "2\n",
      "3\n",
      "4\n",
      "5\n"
     ]
    }
   ],
   "source": [
    "i = 1\n",
    "while i <=5:\n",
    "    print(i)\n",
    "    i+=1"
   ]
  },
  {
   "cell_type": "code",
   "execution_count": 1,
   "id": "9ce6e99a",
   "metadata": {},
   "outputs": [
    {
     "name": "stdout",
     "output_type": "stream",
     "text": [
      "1\n",
      "2\n",
      "3\n",
      "4\n",
      "5\n",
      "6\n",
      "7\n",
      "8\n",
      "9\n",
      "10\n"
     ]
    }
   ],
   "source": [
    "for i in range(1, 11):\n",
    "    print(i)\n"
   ]
  },
  {
   "cell_type": "markdown",
   "id": "14c0d176",
   "metadata": {},
   "source": [
    "## even no"
   ]
  },
  {
   "cell_type": "code",
   "execution_count": 6,
   "id": "71ed0b65",
   "metadata": {},
   "outputs": [
    {
     "name": "stdout",
     "output_type": "stream",
     "text": [
      "2 4 6 8 10 12 14 16 18 20 "
     ]
    }
   ],
   "source": [
    "i=2\n",
    "while i <= 20:\n",
    "    if i % 2 == 0:\n",
    "        print(i, end=\" \")\n",
    "    i += 1"
   ]
  },
  {
   "cell_type": "markdown",
   "id": "34a0f9e3",
   "metadata": {},
   "source": [
    "## even no."
   ]
  },
  {
   "cell_type": "code",
   "execution_count": 7,
   "id": "364f4609",
   "metadata": {},
   "outputs": [
    {
     "name": "stdout",
     "output_type": "stream",
     "text": [
      "2\n",
      "4\n",
      "6\n",
      "8\n",
      "10\n",
      "12\n",
      "14\n",
      "16\n",
      "18\n",
      "20\n"
     ]
    }
   ],
   "source": [
    "i=2\n",
    "while i <= 20:\n",
    "    if i % 2 == 0:\n",
    "        print(i)\n",
    "    i += 1"
   ]
  },
  {
   "cell_type": "markdown",
   "id": "753ec68b",
   "metadata": {},
   "source": [
    "## break and continue"
   ]
  },
  {
   "cell_type": "code",
   "execution_count": null,
   "id": "840141d2",
   "metadata": {},
   "outputs": [
    {
     "name": "stdout",
     "output_type": "stream",
     "text": [
      "apple\n",
      "mango\n",
      "banana\n",
      "papaya\n",
      "guava\n"
     ]
    }
   ],
   "source": [
    "lst= [\"apple\",\"mango\",\"banana\",\"papaya\",\"guava\",\"onion\",\"kivi\"]\n",
    "for i in lst:\n",
    "    if i == 'onion':\n",
    "        break\n",
    "    print(i)"
   ]
  },
  {
   "cell_type": "code",
   "execution_count": 18,
   "id": "f0ade722",
   "metadata": {},
   "outputs": [
    {
     "name": "stdout",
     "output_type": "stream",
     "text": [
      "apple\n",
      "mango\n",
      "banana\n",
      "papaya\n",
      "guava\n",
      "kivi\n"
     ]
    }
   ],
   "source": [
    "lst= [\"apple\",\"mango\",\"banana\",\"papaya\",\"guava\",\"onion\",\"kivi\"]\n",
    "for i in lst:\n",
    "    if i == 'onion':\n",
    "        continue\n",
    "    print(i)"
   ]
  },
  {
   "cell_type": "markdown",
   "id": "e9f482bf",
   "metadata": {},
   "source": [
    "### wap to print the multiplication table of a given no. using while loop"
   ]
  },
  {
   "cell_type": "code",
   "execution_count": 2,
   "id": "31704473",
   "metadata": {},
   "outputs": [
    {
     "name": "stdout",
     "output_type": "stream",
     "text": [
      "5 x 1 = 5\n",
      "5 x 2 = 10\n",
      "5 x 3 = 15\n",
      "5 x 4 = 20\n",
      "5 x 5 = 25\n",
      "5 x 6 = 30\n",
      "5 x 7 = 35\n",
      "5 x 8 = 40\n",
      "5 x 9 = 45\n",
      "5 x 10 = 50\n"
     ]
    }
   ],
   "source": [
    "num = int(input(\"Enter a number: \"))\n",
    "i = 1\n",
    "\n",
    "while i <= 10:\n",
    "    print(f\"{num} x {i} = {num * i}\")\n",
    "    i += 1\n"
   ]
  },
  {
   "cell_type": "markdown",
   "id": "268275ab",
   "metadata": {},
   "source": [
    "### wap to find the sum of all even no. b/w 1 to 100 using for loop"
   ]
  },
  {
   "cell_type": "code",
   "execution_count": 4,
   "id": "606a3a80",
   "metadata": {},
   "outputs": [
    {
     "name": "stdout",
     "output_type": "stream",
     "text": [
      "2550\n"
     ]
    }
   ],
   "source": [
    "sum = 0\n",
    "\n",
    "for i in range(1, 101):\n",
    "    if i % 2 == 0:\n",
    "        sum += i\n",
    "print(sum)\n"
   ]
  },
  {
   "cell_type": "markdown",
   "id": "5409451e",
   "metadata": {},
   "source": [
    "### wap to check if a given number is prime or not using a while loop."
   ]
  },
  {
   "cell_type": "code",
   "execution_count": 5,
   "id": "ae205f9f",
   "metadata": {},
   "outputs": [
    {
     "name": "stdout",
     "output_type": "stream",
     "text": [
      "4 is not a prime number\n"
     ]
    }
   ],
   "source": [
    "num = int(input(\"Enter a number: \"))\n",
    "\n",
    "if num <= 1:\n",
    "    print(num, \"is not a prime number\")\n",
    "else:\n",
    "    i = 2\n",
    "    is_prime = True\n",
    "\n",
    "    while i <= num // 2:\n",
    "        if num % i == 0:\n",
    "            is_prime = False\n",
    "            break\n",
    "        i += 1\n",
    "\n",
    "    if is_prime:\n",
    "        print(num, \"is a prime number\")\n",
    "    else:\n",
    "        print(num, \"is not a prime number\")\n"
   ]
  },
  {
   "cell_type": "code",
   "execution_count": 1,
   "id": "dd8526f6",
   "metadata": {},
   "outputs": [
    {
     "name": "stdout",
     "output_type": "stream",
     "text": [
      "1\n",
      "2\n",
      "3\n",
      "4\n",
      "5\n",
      "6\n",
      "7\n",
      "8\n",
      "9\n",
      "10\n"
     ]
    }
   ],
   "source": [
    "#wap to print numbers from 1 to 10 using a for loop\n",
    "for i in range(1, 11):\n",
    "    print(i)\n",
    "        "
   ]
  },
  {
   "cell_type": "code",
   "execution_count": 3,
   "id": "206bb2ec",
   "metadata": {},
   "outputs": [
    {
     "name": "stdout",
     "output_type": "stream",
     "text": [
      "The factorial of 5 is 120\n"
     ]
    }
   ],
   "source": [
    "#wap to calculate the factorial of a given number using a for loop\n",
    "num = int(input(\"Enter a number: \"))\n",
    "factorial = 1   \n",
    "for i in range(1, num + 1):\n",
    "    factorial *= i\n",
    "print(f\"The factorial of {num} is {factorial}\")\n"
   ]
  },
  {
   "cell_type": "code",
   "execution_count": 4,
   "id": "bd764d59",
   "metadata": {},
   "outputs": [
    {
     "name": "stdout",
     "output_type": "stream",
     "text": [
      "Fibonacci series up to 10 :\n",
      "0 1 1 2 3 5 8 "
     ]
    }
   ],
   "source": [
    "#wap to print the fibonacci series up to a given number using a for loop\n",
    "num = int(input(\"Enter a number: \"))\n",
    "a, b = 0, 1\n",
    "print(\"Fibonacci series up to\", num, \":\")\n",
    "while a <= num:\n",
    "    print(a, end=\" \")\n",
    "    a, b = b, a + b\n",
    "    "
   ]
  },
  {
   "cell_type": "code",
   "execution_count": 5,
   "id": "8cb5184b",
   "metadata": {},
   "outputs": [
    {
     "name": "stdout",
     "output_type": "stream",
     "text": [
      "Largest element in the array is: 50\n"
     ]
    }
   ],
   "source": [
    "#wap to find the largest element in an array using a for loop\n",
    "lst = [10, 20, 30, 40, 50]\n",
    "largest = lst[0]\n",
    "for i in lst:\n",
    "    if i > largest:\n",
    "        largest = i\n",
    "print(\"Largest element in the array is:\", largest)\n"
   ]
  },
  {
   "cell_type": "code",
   "execution_count": 6,
   "id": "3a6270b1",
   "metadata": {},
   "outputs": [
    {
     "name": "stdout",
     "output_type": "stream",
     "text": [
      "Reversed string is: akipeed\n"
     ]
    }
   ],
   "source": [
    "#wap to reverse a given string using a while loop\n",
    "string = input(\"Enter a string: \")\n",
    "reversed_string = \"\"\n",
    "i = len(string) - 1\n",
    "while i >= 0:\n",
    "    reversed_string += string[i]\n",
    "    i -= 1\n",
    "print(\"Reversed string is:\", reversed_string)\n"
   ]
  },
  {
   "cell_type": "code",
   "execution_count": 10,
   "id": "bc447b1d",
   "metadata": {},
   "outputs": [
    {
     "name": "stdout",
     "output_type": "stream",
     "text": [
      "ASCII value of A is 65\n",
      "ASCII value of B is 66\n",
      "ASCII value of C is 67\n",
      "ASCII value of D is 68\n",
      "ASCII value of E is 69\n",
      "ASCII value of F is 70\n"
     ]
    }
   ],
   "source": [
    "#wap to print the ASCII values of all uppercase letters using a for loop\n",
    "for i in range(65, 71):\n",
    "    print(f\"ASCII value of {chr(i)} is {i}\")\n",
    "\n"
   ]
  },
  {
   "cell_type": "code",
   "execution_count": 11,
   "id": "b0886976",
   "metadata": {},
   "outputs": [
    {
     "name": "stdout",
     "output_type": "stream",
     "text": [
      "deepika is not a palindrome\n"
     ]
    }
   ],
   "source": [
    "#wap to check if a given string is a palindrome using a for loop\n",
    "string = input(\"Enter a string: \")\n",
    "is_palindrome = True\n",
    "for i in range(len(string) // 2):\n",
    "    if string[i] != string[len(string) - 1 - i]:\n",
    "        is_palindrome = False\n",
    "        break\n",
    "if is_palindrome:\n",
    "    print(f\"{string} is a palindrome\")\n",
    "else:\n",
    "    print(f\"{string} is not a palindrome\")\n",
    "    "
   ]
  },
  {
   "cell_type": "code",
   "execution_count": 12,
   "id": "36251c26",
   "metadata": {},
   "outputs": [
    {
     "name": "stdout",
     "output_type": "stream",
     "text": [
      "The average of the list is: 30.0\n"
     ]
    }
   ],
   "source": [
    "#wap to calculate the average of a list of numbers using a for loop\n",
    "numbers = [10, 20, 30, 40, 50]\n",
    "total = 0   \n",
    "for num in numbers:\n",
    "    total += num\n",
    "average = total / len(numbers)\n",
    "print(f\"The average of the list is: {average}\")\n"
   ]
  },
  {
   "cell_type": "code",
   "execution_count": 13,
   "id": "86ea5fd5",
   "metadata": {},
   "outputs": [
    {
     "name": "stdout",
     "output_type": "stream",
     "text": [
      "Smallest element in the array is: 10\n"
     ]
    }
   ],
   "source": [
    "#wap to find the smallest element in an array using a while loop\n",
    "lst = [10, 20, 30, 40, 50]\n",
    "smallest = lst[0]\n",
    "for i in lst:\n",
    "    if i < smallest:\n",
    "        smallest = i\n",
    "print(\"Smallest element in the array is:\", smallest)\n"
   ]
  },
  {
   "cell_type": "code",
   "execution_count": 14,
   "id": "3293e5d1",
   "metadata": {},
   "outputs": [
    {
     "name": "stdout",
     "output_type": "stream",
     "text": [
      "The sum of digits of 45 is: 9\n"
     ]
    }
   ],
   "source": [
    "#wap to calculate the sum of digits of a number using a for loop\n",
    "num = int(input(\"Enter a number: \"))\n",
    "sum_of_digits = 0\n",
    "for digit in str(num):\n",
    "    sum_of_digits += int(digit)\n",
    "print(f\"The sum of digits of {num} is: {sum_of_digits}\")\n"
   ]
  },
  {
   "cell_type": "code",
   "execution_count": 15,
   "id": "7026890d",
   "metadata": {},
   "outputs": [
    {
     "name": "stdout",
     "output_type": "stream",
     "text": [
      "The list contains a leap year.\n"
     ]
    }
   ],
   "source": [
    "#wap to check if a given list of years has a leap year using a while loop\n",
    "years = [2000, 2001, 2004, 2005,\n",
    "            2008, 2010, 2012, 2016, 2020]\n",
    "has_leap_year = False\n",
    "i = 0\n",
    "while i < len(years):\n",
    "    if (years[i] % 4 == 0 and years[i] % 100 != 0) or (years[i] % 400 == 0):\n",
    "        has_leap_year = True\n",
    "        break\n",
    "    i += 1\n",
    "if has_leap_year:\n",
    "    print(\"The list contains a leap year.\")\n",
    "else:\n",
    "    print(\"The list does not contain a leap year.\")\n",
    "    "
   ]
  },
  {
   "cell_type": "code",
   "execution_count": 16,
   "id": "e328d9f1",
   "metadata": {},
   "outputs": [
    {
     "name": "stdout",
     "output_type": "stream",
     "text": [
      "Multiplication table of 9:\n",
      "9 x 1 = 9\n",
      "9 x 2 = 18\n",
      "9 x 3 = 27\n",
      "9 x 4 = 36\n",
      "9 x 5 = 45\n"
     ]
    }
   ],
   "source": [
    "#wap to print the multiplication table of a given numbers from 1 to 5 using a for loop\n",
    "num = int(input(\"Enter a number: \"))\n",
    "print(f\"Multiplication table of {num}:\")\n",
    "for i in range(1, 6):\n",
    "    print(f\"{num} x {i} = {num * i}\")\n",
    "    "
   ]
  },
  {
   "cell_type": "code",
   "execution_count": 17,
   "id": "c8d7159f",
   "metadata": {},
   "outputs": [
    {
     "name": "stdout",
     "output_type": "stream",
     "text": [
      "The factorial of 9 is: 362880\n"
     ]
    }
   ],
   "source": [
    "#wap to find the factorial of a number using a for loop\n",
    "num = int(input(\"Enter a number: \"))\n",
    "factorial = 1\n",
    "for i in range(1, num + 1):\n",
    "    factorial *= i\n",
    "print(f\"The factorial of {num} is: {factorial}\")\n"
   ]
  },
  {
   "cell_type": "code",
   "execution_count": 18,
   "id": "de8241b6",
   "metadata": {},
   "outputs": [
    {
     "name": "stdout",
     "output_type": "stream",
     "text": [
      "The number of vowels in 'deepika' is: 4\n"
     ]
    }
   ],
   "source": [
    "#wap to count the number of vowels in a given string using a for loop\n",
    "string = input(\"Enter a string: \")\n",
    "vowels = \"aeiouAEIOU\"\n",
    "count = 0\n",
    "for char in string:\n",
    "    if char in vowels:\n",
    "        count += 1\n",
    "print(f\"The number of vowels in '{string}' is: {count}\")\n"
   ]
  },
  {
   "cell_type": "code",
   "execution_count": 19,
   "id": "d1f55a5c",
   "metadata": {},
   "outputs": [
    {
     "name": "stdout",
     "output_type": "stream",
     "text": [
      "Largest element in the array is: 50\n",
      "Smallest element in the array is: 10\n"
     ]
    }
   ],
   "source": [
    "#wap to find the largest and smallest elements in an array using a for loop\n",
    "lst = [10, 20, 30, 40, 50]\n",
    "largest = lst[0]\n",
    "smallest = lst[0]\n",
    "for i in lst:\n",
    "    if i > largest:\n",
    "        largest = i\n",
    "    if i < smallest:\n",
    "        smallest = i\n",
    "print(\"Largest element in the array is:\", largest)\n",
    "print(\"Smallest element in the array is:\", smallest)    \n"
   ]
  },
  {
   "cell_type": "code",
   "execution_count": 20,
   "id": "44b68f63",
   "metadata": {},
   "outputs": [
    {
     "name": "stdout",
     "output_type": "stream",
     "text": [
      "Reversed sentence is: deepika is name my\n"
     ]
    }
   ],
   "source": [
    "#wap to reverse the order of words in a sentence using a while loop\n",
    "sentence = input(\"Enter a sentence: \")\n",
    "words = sentence.split()\n",
    "reversed_sentence = \"\"\n",
    "i = len(words) - 1\n",
    "while i >= 0:\n",
    "    reversed_sentence += words[i] + \" \"\n",
    "    i -= 1\n",
    "print(\"Reversed sentence is:\", reversed_sentence.strip())\n"
   ]
  }
 ],
 "metadata": {
  "kernelspec": {
   "display_name": "base",
   "language": "python",
   "name": "python3"
  },
  "language_info": {
   "codemirror_mode": {
    "name": "ipython",
    "version": 3
   },
   "file_extension": ".py",
   "mimetype": "text/x-python",
   "name": "python",
   "nbconvert_exporter": "python",
   "pygments_lexer": "ipython3",
   "version": "3.13.2"
  }
 },
 "nbformat": 4,
 "nbformat_minor": 5
}
