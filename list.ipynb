{
 "cells": [
  {
   "cell_type": "markdown",
   "id": "86b3fdff",
   "metadata": {},
   "source": [
    "## list of apps"
   ]
  },
  {
   "cell_type": "code",
   "execution_count": null,
   "id": "635b4d91",
   "metadata": {},
   "outputs": [
    {
     "name": "stdout",
     "output_type": "stream",
     "text": [
      "facebook instagram twitter youtube whatsapp tiktok snapchat reddit pinterest linkedin "
     ]
    }
   ],
   "source": [
    "applist = [\"facebook\",\"instagram\",\"twitter\",\"youtube\",\"whatsapp\",\"tiktok\",\"snapchat\",\"reddit\",\"pinterest\",\"linkedin\"]\n",
    "for app in applist:\n",
    "    print(app , end=\" \")\n"
   ]
  },
  {
   "cell_type": "code",
   "execution_count": 4,
   "id": "908d8a2c",
   "metadata": {},
   "outputs": [
    {
     "name": "stdout",
     "output_type": "stream",
     "text": [
      "reddit\n"
     ]
    }
   ],
   "source": [
    "applist = [\"facebook\",\"instagram\",\"twitter\",\"youtube\",\"whatsapp\",\"tiktok\",\"snapchat\",\"reddit\",\"pinterest\",\"linkedin\"]\n",
    "print(applist[7])  # facebook"
   ]
  },
  {
   "cell_type": "code",
   "execution_count": 6,
   "id": "a02739d2",
   "metadata": {},
   "outputs": [
    {
     "name": "stdout",
     "output_type": "stream",
     "text": [
      "facebook\n",
      "instagram\n",
      "twitter\n",
      "youtube\n",
      "whatsapp\n",
      "tiktok\n",
      "snapchat\n",
      "reddit\n",
      "pinterest\n",
      "linkedin\n"
     ]
    }
   ],
   "source": [
    "applist = [\"facebook\",\"instagram\",\"twitter\",\"youtube\",\"whatsapp\",\"tiktok\",\"snapchat\",\"reddit\",\"pinterest\",\"linkedin\"]\n",
    "for i in applist:\n",
    "    print(i)"
   ]
  },
  {
   "cell_type": "markdown",
   "id": "a038b8d5",
   "metadata": {},
   "source": [
    "## indexing & slicing"
   ]
  },
  {
   "cell_type": "code",
   "execution_count": 7,
   "id": "bf494c90",
   "metadata": {},
   "outputs": [
    {
     "name": "stdout",
     "output_type": "stream",
     "text": [
      "instagram\n"
     ]
    }
   ],
   "source": [
    "print(applist[1])  # ['facebook', 'instagram', 'twitter', 'youtube', 'whatsapp']"
   ]
  },
  {
   "cell_type": "code",
   "execution_count": 11,
   "id": "f03c4f7e",
   "metadata": {},
   "outputs": [
    {
     "name": "stdout",
     "output_type": "stream",
     "text": [
      "facebook\n",
      "['instagram', 'twitter', 'youtube', 'whatsapp', 'tiktok', 'snapchat']\n",
      "['instagram', 'youtube', 'tiktok']\n",
      "['instagram', 'twitter', 'youtube', 'whatsapp', 'tiktok', 'snapchat', 'reddit', 'pinterest', 'linkedin']\n",
      "['facebook', 'instagram', 'twitter', 'youtube', 'whatsapp']\n",
      "linkedin\n",
      "['facebook', 'instagram', 'twitter', 'youtube', 'whatsapp', 'tiktok', 'snapchat', 'reddit', 'pinterest', 'linkedin']\n"
     ]
    }
   ],
   "source": [
    "applist = [\"facebook\",\"instagram\",\"twitter\",\"youtube\",\"whatsapp\",\"tiktok\",\"snapchat\",\"reddit\",\"pinterest\",\"linkedin\"]\n",
    "print(applist[0])  # facebook\n",
    "print(applist[1:7])  # instagram\n",
    "print(applist[1:7:2])  # twitter, youtube, whatsapp, tiktok, snapchat, reddit, pinterest, linkedin\n",
    "print(applist[1:])  # instagram, twitter, youtube, whatsapp, tiktok, snapchat, reddit, pinterest, linkedin\n",
    "print(applist[:5])  # facebook, instagram, twitter, youtube, whatsapp           \n",
    "print(applist[-1])  # linkedin\n",
    "print(applist[:])  # pinterest"
   ]
  },
  {
   "cell_type": "markdown",
   "id": "ec4084c8",
   "metadata": {},
   "source": [
    "## list methods\n",
    "\n",
    "- append() - to add item at the end of the list\n",
    "\n",
    "- insert() - to add item at any specific position in the list\n",
    "\n",
    "- pop() - to delete items using its index position\n",
    "\n",
    "- remove() - to delete items using item name\n",
    "\n",
    "- copy() - to make a duplicate of the list\n",
    "\n",
    "- sort() - to sort the list in a particular order\n",
    "\n",
    "- extend() - to combine two lists into a single list\n",
    "\n",
    "- clear() - to delete all the items from the list but not the list"
   ]
  },
  {
   "cell_type": "code",
   "execution_count": 32,
   "id": "43d25a87",
   "metadata": {},
   "outputs": [
    {
     "name": "stdout",
     "output_type": "stream",
     "text": [
      "[1, 2, 3, 4, 5, 6]\n",
      "[1, 2, 10, 3, 4, 5, 6]\n",
      "[1, 2, 3, 4, 5, 6]\n",
      "[1, 2, 3, 5, 6]\n",
      "[]\n",
      "[]\n",
      "[7, 8, 9]\n",
      "[9, 8, 7]\n",
      "[7, 8, 9]\n"
     ]
    }
   ],
   "source": [
    "list1 = [1,2,3,4,5]\n",
    "list1.append(6)  #append 6 to the end of the list\n",
    "print(list1)  # [1, 2, 3, 4, 5, 6]\n",
    "list1.insert(2, 10) #insert 10 at index 2\n",
    "print(list1)  # [1, 2, 10, 3, 4, 5, 6]\n",
    "list1.remove(10)    #remove 10 from the list   \n",
    "print(list1)  # [1, 2, 3, 4, 5, 6]\n",
    "list1.pop(3)           \n",
    "print(list1)  # [1,2, 3, 5, 6]\n",
    "list1.clear() #clear the list\n",
    "print(list1)  # []\n",
    "list1.copy ()  #copy the list\n",
    "print  (list1)  # [] \n",
    "list1. extend([7,8,9])  #extend the list with 7,8,9\n",
    "print(list1)  # [7, 8, 9]\n",
    "list1.reverse()  #reverse the list\n",
    "print(list1)  # [9, 8, 7]   \n",
    "list1.sort()  #sort the list\n",
    "print(list1)  # [7, 8, 9]\n"
   ]
  },
  {
   "cell_type": "code",
   "execution_count": 31,
   "id": "c04be233",
   "metadata": {},
   "outputs": [
    {
     "name": "stdout",
     "output_type": "stream",
     "text": [
      "['facebook', 'instagram', 'flickr', 'twitter', 'youtube', 'whatsapp', 'tiktok', 'snapchat', 'reddit', 'pinterest', 'linkedin', 'tumblr']\n",
      "['facebook', 'instagram', 'twitter', 'youtube', 'whatsapp', 'tiktok', 'snapchat', 'reddit', 'pinterest', 'linkedin', 'tumblr']\n",
      "['facebook', 'instagram', 'twitter', 'youtube', 'whatsapp', 'tiktok', 'snapchat', 'reddit', 'pinterest', 'linkedin', 'tumblr']\n",
      "['facebook', 'instagram', 'twitter', 'whatsapp', 'tiktok', 'snapchat', 'reddit', 'pinterest', 'linkedin', 'tumblr']\n",
      "[]\n",
      "[]\n",
      "['facebook', 'instagram', 'linkedin', 'pinterest', 'reddit', 'snapchat', 'tiktok', 'twitter', 'whatsapp', 'youtube']\n",
      "['youtube', 'whatsapp', 'twitter', 'tiktok', 'snapchat', 'reddit', 'pinterest', 'linkedin', 'instagram', 'facebook']\n"
     ]
    }
   ],
   "source": [
    "applist = [\"facebook\",\"instagram\",\"twitter\",\"youtube\",\"whatsapp\",\"tiktok\",\"snapchat\",\"reddit\",\"pinterest\",\"linkedin\"]\n",
    "applist.append(\"tumblr\")  \n",
    "applist.insert(2, \"flickr\")\n",
    "print(applist)\n",
    "applist.remove(\"flickr\")\n",
    "print(applist)  \n",
    "print(applist)  \n",
    "applist.pop(3)\n",
    "print(applist)  \n",
    "applist.clear()  \n",
    "print(applist)  \n",
    "print(applist) \n",
    "applist = [\"facebook\",\"instagram\",\"twitter\",\"youtube\",\"whatsapp\",\"tiktok\",\"snapchat\",\"reddit\",\"pinterest\",\"linkedin\"]\n",
    "applist.sort()\n",
    "print(applist)  \n",
    "applist.reverse()  \n",
    "print(applist)   "
   ]
  }
 ],
 "metadata": {
  "kernelspec": {
   "display_name": "base",
   "language": "python",
   "name": "python3"
  },
  "language_info": {
   "codemirror_mode": {
    "name": "ipython",
    "version": 3
   },
   "file_extension": ".py",
   "mimetype": "text/x-python",
   "name": "python",
   "nbconvert_exporter": "python",
   "pygments_lexer": "ipython3",
   "version": "3.13.2"
  }
 },
 "nbformat": 4,
 "nbformat_minor": 5
}
