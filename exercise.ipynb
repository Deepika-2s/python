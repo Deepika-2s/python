{
 "cells": [
  {
   "cell_type": "markdown",
   "id": "8f2ed566",
   "metadata": {},
   "source": [
    "## wap to reverse a number"
   ]
  },
  {
   "cell_type": "code",
   "execution_count": 3,
   "id": "f2c9e18b",
   "metadata": {},
   "outputs": [
    {
     "name": "stdout",
     "output_type": "stream",
     "text": [
      "reversed number is: 52\n"
     ]
    }
   ],
   "source": [
    "num=int(input(\"enter a number \"))\n",
    "rev =0\n",
    "while num>0:\n",
    "    #print(num,rev)\n",
    "    digit=num%10\n",
    "    rev=rev*10 + digit\n",
    "    num//=10\n",
    "print(\"reversed number is:\",rev)\n",
    "if rev==0:\n",
    "    print(\"the reversed number is zero.\")"
   ]
  },
  {
   "cell_type": "markdown",
   "id": "acdd36f4",
   "metadata": {},
   "source": [
    "## wap to find whether a num is armstrong or not"
   ]
  },
  {
   "cell_type": "code",
   "execution_count": 12,
   "id": "9a1ba2b1",
   "metadata": {},
   "outputs": [
    {
     "name": "stdout",
     "output_type": "stream",
     "text": [
      "890 is not an armstrong number\n"
     ]
    }
   ],
   "source": [
    "num1=int(input(\"enter a number\"))\n",
    "copy = num1\n",
    "sum=0\n",
    "while copy >0:\n",
    "    d = copy % 10\n",
    "    sum += d**3\n",
    "    copy //=10\n",
    "if sum == num1:\n",
    "    print(num1,\"is an armstrong number\")\n",
    "else:\n",
    "    print(num1,\"is not an armstrong number\")"
   ]
  },
  {
   "cell_type": "markdown",
   "id": "af125014",
   "metadata": {},
   "source": [
    "## wap to find whether a number is pallindrome or not"
   ]
  },
  {
   "cell_type": "code",
   "execution_count": 21,
   "id": "bc584be3",
   "metadata": {},
   "outputs": [
    {
     "name": "stdout",
     "output_type": "stream",
     "text": [
      "789 is not a pallindrome\n"
     ]
    }
   ],
   "source": [
    "num=int(input(\"enter a number: \"))\n",
    "rev = 0\n",
    "temp = num\n",
    "while temp > 0:\n",
    "    d = temp % 10\n",
    "    rev = rev * 10 + d\n",
    "    temp //= 10\n",
    "if num == rev:\n",
    "    print(num,\"is a pallindrome\")\n",
    "else:\n",
    "    print(num,\"is not a pallindrome\")"
   ]
  },
  {
   "cell_type": "markdown",
   "id": "686c0f1a",
   "metadata": {},
   "source": [
    "## wap to check whether a number is spy or not"
   ]
  },
  {
   "cell_type": "code",
   "execution_count": 22,
   "id": "056ad509",
   "metadata": {},
   "outputs": [
    {
     "name": "stdout",
     "output_type": "stream",
     "text": [
      "the num is not a spy number\n"
     ]
    }
   ],
   "source": [
    "num = int(input(\"enter a number\"))\n",
    "sum = 0\n",
    "prod = 1\n",
    "while num > 0:\n",
    "    d = num % 10\n",
    "    sum +=d\n",
    "    prod *= d\n",
    "    num //= 10\n",
    "if sum == prod:\n",
    "    print(\"the number is a spy number\")\n",
    "else:\n",
    "    print(\"the num is not a spy number\")"
   ]
  },
  {
   "cell_type": "markdown",
   "id": "5e1da426",
   "metadata": {},
   "source": [
    "## wap to find the factorial of a num"
   ]
  },
  {
   "cell_type": "code",
   "execution_count": 1,
   "id": "1c7248b4",
   "metadata": {},
   "outputs": [
    {
     "name": "stdout",
     "output_type": "stream",
     "text": [
      "factorial of 8 is 40320\n"
     ]
    }
   ],
   "source": [
    "num = int(input(\"enter a num\"))\n",
    "sum = 0\n",
    "fact = 1\n",
    "for i in range(1, num+1):\n",
    "    fact = fact* i\n",
    "print(\"factorial of\",num,\"is\",fact)"
   ]
  }
 ],
 "metadata": {
  "kernelspec": {
   "display_name": "base",
   "language": "python",
   "name": "python3"
  },
  "language_info": {
   "codemirror_mode": {
    "name": "ipython",
    "version": 3
   },
   "file_extension": ".py",
   "mimetype": "text/x-python",
   "name": "python",
   "nbconvert_exporter": "python",
   "pygments_lexer": "ipython3",
   "version": "3.13.2"
  }
 },
 "nbformat": 4,
 "nbformat_minor": 5
}
