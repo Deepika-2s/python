{
 "cells": [
  {
   "cell_type": "markdown",
   "id": "64a1cf7f",
   "metadata": {},
   "source": [
    "# string"
   ]
  },
  {
   "cell_type": "code",
   "execution_count": 2,
   "id": "791b1933",
   "metadata": {},
   "outputs": [
    {
     "name": "stdout",
     "output_type": "stream",
     "text": [
      "this is cow\n"
     ]
    }
   ],
   "source": [
    "name=\"this is cow\"\n",
    "print(name)"
   ]
  },
  {
   "cell_type": "markdown",
   "id": "f1b3f031",
   "metadata": {},
   "source": [
    "# multiline string"
   ]
  },
  {
   "cell_type": "code",
   "execution_count": 4,
   "id": "3ead7503",
   "metadata": {},
   "outputs": [
    {
     "name": "stdout",
     "output_type": "stream",
     "text": [
      " twinkle twinkle little star,\n",
      "how I wonder what you are\n"
     ]
    }
   ],
   "source": [
    "poem=''' twinkle twinkle little star,\n",
    "how I wonder what you are'''\n",
    "print(poem)"
   ]
  },
  {
   "cell_type": "markdown",
   "id": "8f8f5ac1",
   "metadata": {},
   "source": [
    "# list"
   ]
  },
  {
   "cell_type": "code",
   "execution_count": 5,
   "id": "85264560",
   "metadata": {},
   "outputs": [
    {
     "name": "stdout",
     "output_type": "stream",
     "text": [
      "[1, 2, 3, 4, 5, 6, 7]\n"
     ]
    }
   ],
   "source": [
    "lst=[1,2,3,4,5,6,7,]\n",
    "print(lst)"
   ]
  },
  {
   "cell_type": "markdown",
   "id": "63eb3baa",
   "metadata": {},
   "source": [
    "# tuple"
   ]
  },
  {
   "cell_type": "code",
   "execution_count": 6,
   "id": "3ba9c11d",
   "metadata": {},
   "outputs": [
    {
     "name": "stdout",
     "output_type": "stream",
     "text": [
      "(1, 2, 3, 4, 5, 6)\n"
     ]
    }
   ],
   "source": [
    "tuple=(1,2,3,4,5,6)\n",
    "print(tuple)"
   ]
  },
  {
   "cell_type": "markdown",
   "id": "37884293",
   "metadata": {},
   "source": [
    "# set"
   ]
  },
  {
   "cell_type": "code",
   "execution_count": 7,
   "id": "09a7879f",
   "metadata": {},
   "outputs": [
    {
     "name": "stdout",
     "output_type": "stream",
     "text": [
      "(1, 2, 3, 4, 5, 6, 7)\n"
     ]
    }
   ],
   "source": [
    "set=(1,2,3,4,5,6,7)\n",
    "print(set)"
   ]
  },
  {
   "cell_type": "markdown",
   "id": "7e004da2",
   "metadata": {},
   "source": [
    "# dictionary"
   ]
  },
  {
   "cell_type": "code",
   "execution_count": 10,
   "id": "5aea2fa3",
   "metadata": {},
   "outputs": [
    {
     "name": "stdout",
     "output_type": "stream",
     "text": [
      "{'name': 'toyota', 'model': 'corolla'}\n",
      "<class 'dict'>\n"
     ]
    }
   ],
   "source": [
    "car_info={\"name\":\"toyota\",\n",
    "          \"model\":\"corolla\"\n",
    "    }\n",
    "print(car_info)\n",
    "print(type(car_info))"
   ]
  },
  {
   "cell_type": "markdown",
   "id": "119f9c05",
   "metadata": {},
   "source": [
    "# type casting"
   ]
  },
  {
   "cell_type": "code",
   "execution_count": 11,
   "id": "7d668254",
   "metadata": {},
   "outputs": [
    {
     "name": "stdout",
     "output_type": "stream",
     "text": [
      "<class 'int'>\n",
      "<class 'str'>\n"
     ]
    }
   ],
   "source": [
    "a=5\n",
    "print(type(a))\n",
    "b=str(a)\n",
    "print(type(b))"
   ]
  },
  {
   "cell_type": "markdown",
   "id": "178ff581",
   "metadata": {},
   "source": [
    "# input method"
   ]
  },
  {
   "cell_type": "code",
   "execution_count": 1,
   "id": "a483c32f",
   "metadata": {},
   "outputs": [
    {
     "name": "stdout",
     "output_type": "stream",
     "text": [
      "21\n"
     ]
    },
    {
     "data": {
      "text/plain": [
       "int"
      ]
     },
     "execution_count": 1,
     "metadata": {},
     "output_type": "execute_result"
    }
   ],
   "source": [
    "num=int(input(\"enter a number:\"))\n",
    "print(num)\n",
    "type(num)"
   ]
  }
 ],
 "metadata": {
  "kernelspec": {
   "display_name": "base",
   "language": "python",
   "name": "python3"
  },
  "language_info": {
   "codemirror_mode": {
    "name": "ipython",
    "version": 3
   },
   "file_extension": ".py",
   "mimetype": "text/x-python",
   "name": "python",
   "nbconvert_exporter": "python",
   "pygments_lexer": "ipython3",
   "version": "3.13.2"
  }
 },
 "nbformat": 4,
 "nbformat_minor": 5
}
